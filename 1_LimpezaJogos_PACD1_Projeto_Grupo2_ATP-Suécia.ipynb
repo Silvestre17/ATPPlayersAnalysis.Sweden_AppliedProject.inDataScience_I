{
 "cells": [
  {
   "cell_type": "markdown",
   "id": "2f438879",
   "metadata": {},
   "source": [
    "<center><br> <img src=\"https://www.iscte-iul.pt/assets/images/logo_iscte_detailed.svg\" style=\"width: 200px;\"></center><br>"
   ]
  },
  {
   "cell_type": "markdown",
   "id": "ef483472",
   "metadata": {},
   "source": [
    "<img src=\"https://i.pinimg.com/originals/2f/63/0c/2f630c8ff0e603d2b159c169d368b7d0.jpg\" style=\"width: 250px;margin-top: 30px;\" align=\"left\">\n",
    "   <div><center><h1>PACD1: Limpeza dos Jogos</h1></center></div>\n",
    "   <div><center><h3>Projeto Aplicado para Ciência de Dados I</h3></center></div>\n",
    "   <div><center><b>Docentes:</b> Diana Mendes <b>|</b> Sérgio Moro</center></div>\n",
    "    <br>\n",
    "    <div><center><h4>Grupo 2</h4></center></div>\n",
    "    <div><center> André Silvestre Nº104532 <b>|</b> Diogo Catarino Nº104745</center></div>\n",
    "    <div><center>Francisco Gomes Nº104944 <b>|</b> Rita Matos Nº104936 </center></div>\n",
    "    <div><center><b>CDB1</b></center>\n",
    " <br>    \n",
    " <br>\n"
   ]
  },
  {
   "cell_type": "markdown",
   "id": "34177e99",
   "metadata": {},
   "source": [
    "<div style=\"background: linear-gradient(to right,#67C7ED, #0371B1,#0A6394); \n",
    "            padding: .7px; color: white; border-radius: 300px; text-align: center;\">\n",
    "</div>\n",
    "\n",
    "# Índice do Notebook\n",
    "\n",
    "\n",
    "<ol style=\"list-style-type: upper-roman;font-weight: bold;\">\n",
    "  <li><span style = \"font-weight: normal;\"><a href=\"#21\">2.1 | Variável Location</a></span></li>\n",
    "  <li><span style = \"font-weight: normal;\"><a href=\"#22\">2.2 | Variável Tournament</a></span></li>\n",
    "  <li><span style = \"font-weight: normal;\"><a href=\"#23\">2.3 | Variável Date</a></span></li>\n",
    "  <li><span style = \"font-weight: normal;\"><a href=\"#24\">2.4 | Variável Ground</a></span></li>\n",
    "  <li><span style = \"font-weight: normal;\"><a href=\"#25\">2.5 | Variável Prize</a></span></li>\n",
    "  <li><span style = \"font-weight: normal;\"><a href=\"#26\">2.6 | Variável GameRound</a></span></li>\n",
    "  <li><span style = \"font-weight: normal;\"><a href=\"#27\">2.7 | Variável WL</a></span></li>\n",
    "  <li><span style = \"font-weight: normal;\"><a href=\"#28\">2.8 | Variável Score</a></span></li>\n",
    "\n",
    "</ol>\n",
    "\n",
    "<div style=\"background: linear-gradient(to right,#67C7ED, #0371B1,#0A6394); \n",
    "            padding: .7px; color: white; border-radius: 300px; text-align: center;\">\n",
    "</div>\n"
   ]
  },
  {
   "cell_type": "markdown",
   "id": "9a5b5514",
   "metadata": {},
   "source": [
    "# \n",
    "<br>\n",
    "<style>\n",
    "@import url('https://fonts.cdnfonts.com/css/avenir-next-lt-pro?styles=29974');\n",
    "</style>\n",
    "\n",
    "<div style=\"background: linear-gradient(to right,#67C7ED, #0371B1,#0A6394); \n",
    "            padding: 10px; color: white; border-radius: 300px; text-align: center;\">\n",
    "    <center><h1 style=\"margin-left: 140px;margin-top: 10px; margin-bottom: 4px; color: white;\n",
    "                       font-size: 32px; font-family: 'Avenir Next LT Pro', sans-serif;\">\n",
    "        <b>2 | Data Preparation (Jogos)</b></h1></center>\n",
    "</div>"
   ]
  },
  {
   "cell_type": "markdown",
   "id": "98d7447a",
   "metadata": {},
   "source": [
    "## 📚 Import das Bibliotecas"
   ]
  },
  {
   "cell_type": "code",
   "execution_count": 1,
   "id": "7d9bb0b5",
   "metadata": {},
   "outputs": [],
   "source": [
    "# Bibliotecas que vamos usar no Projeto\n",
    "\n",
    "## for data\n",
    "import pandas as pd\n",
    "import numpy as np\n",
    "\n",
    "## for plotting\n",
    "import matplotlib.pyplot as plt\n",
    "import seaborn as sns\n",
    "    \n",
    "## plot style and warnings    \n",
    "plt.style.use('ggplot')\n",
    "from IPython.display import display # Allows the use of display() for DataFrames\n",
    "import warnings\n",
    "warnings.filterwarnings('ignore')\n",
    "\n",
    "pd.set_option('display.max_colwidth', -1)  # Visualizar a informação toda"
   ]
  },
  {
   "cell_type": "markdown",
   "id": "246b58c4",
   "metadata": {},
   "source": [
    "## 🧮 Importar Bases de Dados `df_atp1.csv`"
   ]
  },
  {
   "cell_type": "code",
   "execution_count": 2,
   "id": "feafbad7",
   "metadata": {},
   "outputs": [
    {
     "name": "stdout",
     "output_type": "stream",
     "text": [
      "<class 'pandas.core.frame.DataFrame'>\n",
      "RangeIndex: 1306005 entries, 0 to 1306004\n",
      "Data columns (total 15 columns):\n",
      " #   Column      Non-Null Count    Dtype  \n",
      "---  ------      --------------    -----  \n",
      " 0   PlayerName  1306005 non-null  object \n",
      " 1   Born        985313 non-null   object \n",
      " 2   Height      979932 non-null   float64\n",
      " 3   Hand        1114088 non-null  object \n",
      " 4   LinkPlayer  1306005 non-null  object \n",
      " 5   Tournament  1306005 non-null  object \n",
      " 6   Location    1306005 non-null  object \n",
      " 7   Date        1306005 non-null  object \n",
      " 8   Ground      1305818 non-null  object \n",
      " 9   Prize       1286921 non-null  object \n",
      " 10  GameRound   1306005 non-null  object \n",
      " 11  GameRank    1286853 non-null  object \n",
      " 12  Oponent     1305998 non-null  object \n",
      " 13  WL          1286832 non-null  object \n",
      " 14  Score       1286689 non-null  object \n",
      "dtypes: float64(1), object(14)\n",
      "memory usage: 149.5+ MB\n"
     ]
    }
   ],
   "source": [
    "atp = pd.read_csv('df_atp1.csv')\n",
    "atp.info()"
   ]
  },
  {
   "cell_type": "markdown",
   "id": "2bcb9d84",
   "metadata": {},
   "source": [
    "# <a class='anchor' id='21'></a>\n",
    "\n",
    "<div style=\"border: 3px #0371B1; border-style: solid;  \n",
    "            border-radius: 300px; padding: 20px;\">\n",
    "    <center><h1 style=\"margin-top: 2px;color: #0371B1; font-size: 20px;\n",
    "                       font-family: 'Avenir Next LT Pro', sans-serif;\"> 2.1 | Variável Location</h1></center>\n",
    "</div>"
   ]
  },
  {
   "cell_type": "code",
   "execution_count": 3,
   "id": "294b4425",
   "metadata": {},
   "outputs": [
    {
     "data": {
      "text/html": [
       "<div>\n",
       "<style scoped>\n",
       "    .dataframe tbody tr th:only-of-type {\n",
       "        vertical-align: middle;\n",
       "    }\n",
       "\n",
       "    .dataframe tbody tr th {\n",
       "        vertical-align: top;\n",
       "    }\n",
       "\n",
       "    .dataframe thead th {\n",
       "        text-align: right;\n",
       "    }\n",
       "</style>\n",
       "<table border=\"1\" class=\"dataframe\">\n",
       "  <thead>\n",
       "    <tr style=\"text-align: right;\">\n",
       "      <th></th>\n",
       "      <th>Name</th>\n",
       "      <th>Code</th>\n",
       "    </tr>\n",
       "  </thead>\n",
       "  <tbody>\n",
       "    <tr>\n",
       "      <th>0</th>\n",
       "      <td>Afghanistan</td>\n",
       "      <td>AF</td>\n",
       "    </tr>\n",
       "    <tr>\n",
       "      <th>1</th>\n",
       "      <td>Åland Islands</td>\n",
       "      <td>AX</td>\n",
       "    </tr>\n",
       "    <tr>\n",
       "      <th>2</th>\n",
       "      <td>Albania</td>\n",
       "      <td>AL</td>\n",
       "    </tr>\n",
       "    <tr>\n",
       "      <th>3</th>\n",
       "      <td>Algeria</td>\n",
       "      <td>DZ</td>\n",
       "    </tr>\n",
       "    <tr>\n",
       "      <th>4</th>\n",
       "      <td>American Samoa</td>\n",
       "      <td>AS</td>\n",
       "    </tr>\n",
       "    <tr>\n",
       "      <th>...</th>\n",
       "      <td>...</td>\n",
       "      <td>...</td>\n",
       "    </tr>\n",
       "    <tr>\n",
       "      <th>244</th>\n",
       "      <td>Wallis and Futuna</td>\n",
       "      <td>WF</td>\n",
       "    </tr>\n",
       "    <tr>\n",
       "      <th>245</th>\n",
       "      <td>Western Sahara</td>\n",
       "      <td>EH</td>\n",
       "    </tr>\n",
       "    <tr>\n",
       "      <th>246</th>\n",
       "      <td>Yemen</td>\n",
       "      <td>YE</td>\n",
       "    </tr>\n",
       "    <tr>\n",
       "      <th>247</th>\n",
       "      <td>Zambia</td>\n",
       "      <td>ZM</td>\n",
       "    </tr>\n",
       "    <tr>\n",
       "      <th>248</th>\n",
       "      <td>Zimbabwe</td>\n",
       "      <td>ZW</td>\n",
       "    </tr>\n",
       "  </tbody>\n",
       "</table>\n",
       "<p>249 rows × 2 columns</p>\n",
       "</div>"
      ],
      "text/plain": [
       "                  Name Code\n",
       "0    Afghanistan        AF \n",
       "1    Åland Islands      AX \n",
       "2    Albania            AL \n",
       "3    Algeria            DZ \n",
       "4    American Samoa     AS \n",
       "..              ...     .. \n",
       "244  Wallis and Futuna  WF \n",
       "245  Western Sahara     EH \n",
       "246  Yemen              YE \n",
       "247  Zambia             ZM \n",
       "248  Zimbabwe           ZW \n",
       "\n",
       "[249 rows x 2 columns]"
      ]
     },
     "execution_count": 3,
     "metadata": {},
     "output_type": "execute_result"
    }
   ],
   "source": [
    "# Import da Base de Dados dos Países\n",
    "df_countries = pd.read_csv('countries_net.csv')\n",
    "df_countries"
   ]
  },
  {
   "cell_type": "code",
   "execution_count": 4,
   "id": "0d1b8559",
   "metadata": {},
   "outputs": [
    {
     "name": "stdout",
     "output_type": "stream",
     "text": [
      "Nº de Valores Omissos: 0 ( 0.0 %)\n"
     ]
    }
   ],
   "source": [
    "# Contar os valores omissos na variável 'Location'\n",
    "print('Nº de Valores Omissos:',atp['Location'].isna().sum(), '(', round(atp['Location'].isna().sum()/len(atp['Location']) * 100, 2) ,'%)' )"
   ]
  },
  {
   "cell_type": "code",
   "execution_count": 5,
   "id": "b01da454",
   "metadata": {},
   "outputs": [
    {
     "data": {
      "text/plain": [
       "2512"
      ]
     },
     "execution_count": 5,
     "metadata": {},
     "output_type": "execute_result"
    }
   ],
   "source": [
    "# Verificar o nº de designações distintas para Países (Confirma a necessidade de limpar)\n",
    "atp['Location'].nunique()"
   ]
  },
  {
   "cell_type": "code",
   "execution_count": 6,
   "id": "5060f9cf",
   "metadata": {},
   "outputs": [
    {
     "data": {
      "text/html": [
       "<div>\n",
       "<style scoped>\n",
       "    .dataframe tbody tr th:only-of-type {\n",
       "        vertical-align: middle;\n",
       "    }\n",
       "\n",
       "    .dataframe tbody tr th {\n",
       "        vertical-align: top;\n",
       "    }\n",
       "\n",
       "    .dataframe thead th {\n",
       "        text-align: right;\n",
       "    }\n",
       "</style>\n",
       "<table border=\"1\" class=\"dataframe\">\n",
       "  <thead>\n",
       "    <tr style=\"text-align: right;\">\n",
       "      <th></th>\n",
       "      <th>Original</th>\n",
       "      <th>Pais</th>\n",
       "    </tr>\n",
       "  </thead>\n",
       "  <tbody>\n",
       "    <tr>\n",
       "      <th>514867</th>\n",
       "      <td>Friedberg, Germany</td>\n",
       "      <td>Germany</td>\n",
       "    </tr>\n",
       "    <tr>\n",
       "      <th>826917</th>\n",
       "      <td>Amersfoort, Netherlands</td>\n",
       "      <td>Netherlands</td>\n",
       "    </tr>\n",
       "    <tr>\n",
       "      <th>751292</th>\n",
       "      <td>Miami, FL, U.S.A.</td>\n",
       "      <td>U.S.A.</td>\n",
       "    </tr>\n",
       "    <tr>\n",
       "      <th>1172700</th>\n",
       "      <td>Bogota, Colombia</td>\n",
       "      <td>Colombia</td>\n",
       "    </tr>\n",
       "    <tr>\n",
       "      <th>282605</th>\n",
       "      <td>Heraklion, Greece</td>\n",
       "      <td>Greece</td>\n",
       "    </tr>\n",
       "  </tbody>\n",
       "</table>\n",
       "</div>"
      ],
      "text/plain": [
       "                        Original         Pais\n",
       "514867   Friedberg, Germany       Germany    \n",
       "826917   Amersfoort, Netherlands  Netherlands\n",
       "751292   Miami, FL, U.S.A.        U.S.A.     \n",
       "1172700  Bogota, Colombia         Colombia   \n",
       "282605   Heraklion, Greece        Greece     "
      ]
     },
     "execution_count": 6,
     "metadata": {},
     "output_type": "execute_result"
    }
   ],
   "source": [
    "# Criar um novo DataFrame 'df_uniformizar_paises_torneios' com as colunas 'Original' e 'Pais' \n",
    "# usando a função apply() e uma função lambda que remove o nome do país do nascimento antes da vírgula.\n",
    "df_uniformizar_paises_torneios_excel = pd.DataFrame({\n",
    "    'Original': atp['Location'],\n",
    "    'Pais': atp['Location'].apply(lambda x: x.split(',')[-1].strip())\n",
    "})\n",
    "\n",
    "df_uniformizar_paises_torneios_excel.sample(5)"
   ]
  },
  {
   "cell_type": "code",
   "execution_count": 7,
   "id": "533e82c2",
   "metadata": {},
   "outputs": [],
   "source": [
    "# Usar o método drop_duplicates() do pandas para remover os países duplicados do DataFrame df_uniformizar_paises_torneios\n",
    "df_uniformizar_paises_torneios_excel.drop_duplicates(subset='Pais', inplace=True)"
   ]
  },
  {
   "cell_type": "code",
   "execution_count": 8,
   "id": "8d7bf707",
   "metadata": {},
   "outputs": [],
   "source": [
    "# Filtrar países não encontrados na coluna 'Name' do df_countries\n",
    "df_uniformizar_paises_torneios_excel = df_uniformizar_paises_torneios_excel[~df_uniformizar_paises_torneios_excel['Pais'].isin(df_countries['Name'])].copy()\n",
    "df_uniformizar_paises_torneios_excel.reset_index(drop=True, inplace=True)"
   ]
  },
  {
   "cell_type": "code",
   "execution_count": 9,
   "id": "bc9601ac",
   "metadata": {
    "scrolled": false
   },
   "outputs": [
    {
     "data": {
      "text/html": [
       "<div>\n",
       "<style scoped>\n",
       "    .dataframe tbody tr th:only-of-type {\n",
       "        vertical-align: middle;\n",
       "    }\n",
       "\n",
       "    .dataframe tbody tr th {\n",
       "        vertical-align: top;\n",
       "    }\n",
       "\n",
       "    .dataframe thead th {\n",
       "        text-align: right;\n",
       "    }\n",
       "</style>\n",
       "<table border=\"1\" class=\"dataframe\">\n",
       "  <thead>\n",
       "    <tr style=\"text-align: right;\">\n",
       "      <th></th>\n",
       "      <th>Pais</th>\n",
       "      <th>Original</th>\n",
       "    </tr>\n",
       "  </thead>\n",
       "  <tbody>\n",
       "    <tr>\n",
       "      <th>0</th>\n",
       "      <td>'s-Hertogenbosch</td>\n",
       "      <td>'s-Hertogenbosch</td>\n",
       "    </tr>\n",
       "    <tr>\n",
       "      <th>1</th>\n",
       "      <td>AR</td>\n",
       "      <td>Fayetteville, Fayetteville, AR</td>\n",
       "    </tr>\n",
       "    <tr>\n",
       "      <th>2</th>\n",
       "      <td>ARG</td>\n",
       "      <td>Cordoba, ARG</td>\n",
       "    </tr>\n",
       "    <tr>\n",
       "      <th>3</th>\n",
       "      <td>Abidjan</td>\n",
       "      <td>Abidjan</td>\n",
       "    </tr>\n",
       "    <tr>\n",
       "      <th>4</th>\n",
       "      <td>Alberta</td>\n",
       "      <td>Calgary, Alberta</td>\n",
       "    </tr>\n",
       "    <tr>\n",
       "      <th>...</th>\n",
       "      <td>...</td>\n",
       "      <td>...</td>\n",
       "    </tr>\n",
       "    <tr>\n",
       "      <th>208</th>\n",
       "      <td>Willemstad</td>\n",
       "      <td>Willemstad</td>\n",
       "    </tr>\n",
       "    <tr>\n",
       "      <th>209</th>\n",
       "      <td>Wrocklaw</td>\n",
       "      <td>Wroclaw, Wrocklaw</td>\n",
       "    </tr>\n",
       "    <tr>\n",
       "      <th>210</th>\n",
       "      <td>Wuhan</td>\n",
       "      <td>Wuhan</td>\n",
       "    </tr>\n",
       "    <tr>\n",
       "      <th>211</th>\n",
       "      <td>Yug.</td>\n",
       "      <td>Belgrade, Yug.</td>\n",
       "    </tr>\n",
       "    <tr>\n",
       "      <th>212</th>\n",
       "      <td>Yugoslavia</td>\n",
       "      <td>Belgrade, Yugoslavia</td>\n",
       "    </tr>\n",
       "  </tbody>\n",
       "</table>\n",
       "<p>213 rows × 2 columns</p>\n",
       "</div>"
      ],
      "text/plain": [
       "                 Pais                        Original\n",
       "0    's-Hertogenbosch  's-Hertogenbosch              \n",
       "1    AR                Fayetteville, Fayetteville, AR\n",
       "2    ARG               Cordoba, ARG                  \n",
       "3    Abidjan           Abidjan                       \n",
       "4    Alberta           Calgary, Alberta              \n",
       "..       ...                        ...              \n",
       "208  Willemstad        Willemstad                    \n",
       "209  Wrocklaw          Wroclaw, Wrocklaw             \n",
       "210  Wuhan             Wuhan                         \n",
       "211  Yug.              Belgrade, Yug.                \n",
       "212  Yugoslavia        Belgrade, Yugoslavia          \n",
       "\n",
       "[213 rows x 2 columns]"
      ]
     },
     "execution_count": 9,
     "metadata": {},
     "output_type": "execute_result"
    }
   ],
   "source": [
    "# Mostrar apenas os países que não foram encontrados no df_countries\n",
    "df_uniformizar_paises_torneios_excel[['Original', 'Pais']].groupby('Pais').first().reset_index()"
   ]
  },
  {
   "cell_type": "code",
   "execution_count": 10,
   "id": "4c64e72c",
   "metadata": {},
   "outputs": [],
   "source": [
    "# Guardar os países a renomear em formato .csv para serem posteriormente trabalhados em Excel\n",
    "df_uniformizar_paises_torneios_excel.to_csv(\"Transformar_Paises_Torneios.csv\", sep=\";\")"
   ]
  },
  {
   "cell_type": "markdown",
   "id": "34c001a5",
   "metadata": {},
   "source": [
    "---"
   ]
  },
  {
   "cell_type": "markdown",
   "id": "8b79f622",
   "metadata": {},
   "source": [
    "## Caso Particular `TBA`, `TBC` e `TBD`"
   ]
  },
  {
   "cell_type": "code",
   "execution_count": 11,
   "id": "c89e917c",
   "metadata": {},
   "outputs": [
    {
     "data": {
      "text/html": [
       "<div>\n",
       "<style scoped>\n",
       "    .dataframe tbody tr th:only-of-type {\n",
       "        vertical-align: middle;\n",
       "    }\n",
       "\n",
       "    .dataframe tbody tr th {\n",
       "        vertical-align: top;\n",
       "    }\n",
       "\n",
       "    .dataframe thead th {\n",
       "        text-align: right;\n",
       "    }\n",
       "</style>\n",
       "<table border=\"1\" class=\"dataframe\">\n",
       "  <thead>\n",
       "    <tr style=\"text-align: right;\">\n",
       "      <th></th>\n",
       "      <th>Tournament</th>\n",
       "      <th>Location</th>\n",
       "    </tr>\n",
       "  </thead>\n",
       "  <tbody>\n",
       "    <tr>\n",
       "      <th>0</th>\n",
       "      <td>Botswana F1</td>\n",
       "      <td>TBA</td>\n",
       "    </tr>\n",
       "    <tr>\n",
       "      <th>1</th>\n",
       "      <td>Egypt F1</td>\n",
       "      <td>TBA</td>\n",
       "    </tr>\n",
       "    <tr>\n",
       "      <th>2</th>\n",
       "      <td>Egypt F2</td>\n",
       "      <td>TBA</td>\n",
       "    </tr>\n",
       "    <tr>\n",
       "      <th>3</th>\n",
       "      <td>Egypt F3</td>\n",
       "      <td>TBA</td>\n",
       "    </tr>\n",
       "    <tr>\n",
       "      <th>4</th>\n",
       "      <td>France F13</td>\n",
       "      <td>TBA</td>\n",
       "    </tr>\n",
       "    <tr>\n",
       "      <th>5</th>\n",
       "      <td>Great Britain F10</td>\n",
       "      <td>TBC</td>\n",
       "    </tr>\n",
       "    <tr>\n",
       "      <th>6</th>\n",
       "      <td>Great Britain F7</td>\n",
       "      <td>TBA</td>\n",
       "    </tr>\n",
       "    <tr>\n",
       "      <th>7</th>\n",
       "      <td>Great Britain F9</td>\n",
       "      <td>TBC</td>\n",
       "    </tr>\n",
       "    <tr>\n",
       "      <th>8</th>\n",
       "      <td>India F4</td>\n",
       "      <td>TBA</td>\n",
       "    </tr>\n",
       "    <tr>\n",
       "      <th>9</th>\n",
       "      <td>India F5</td>\n",
       "      <td>TBA</td>\n",
       "    </tr>\n",
       "    <tr>\n",
       "      <th>10</th>\n",
       "      <td>Italy F10</td>\n",
       "      <td>TBA</td>\n",
       "    </tr>\n",
       "    <tr>\n",
       "      <th>11</th>\n",
       "      <td>Italy F4</td>\n",
       "      <td>TBA</td>\n",
       "    </tr>\n",
       "    <tr>\n",
       "      <th>12</th>\n",
       "      <td>Italy F5</td>\n",
       "      <td>TBA</td>\n",
       "    </tr>\n",
       "    <tr>\n",
       "      <th>13</th>\n",
       "      <td>Italy F9</td>\n",
       "      <td>TBA</td>\n",
       "    </tr>\n",
       "    <tr>\n",
       "      <th>14</th>\n",
       "      <td>U.S.A. F13</td>\n",
       "      <td>TBA</td>\n",
       "    </tr>\n",
       "    <tr>\n",
       "      <th>15</th>\n",
       "      <td>U.S.A. F21</td>\n",
       "      <td>TBA</td>\n",
       "    </tr>\n",
       "    <tr>\n",
       "      <th>16</th>\n",
       "      <td>U.S.A. F29</td>\n",
       "      <td>TBA</td>\n",
       "    </tr>\n",
       "    <tr>\n",
       "      <th>17</th>\n",
       "      <td>U.S.A. F30</td>\n",
       "      <td>TBD</td>\n",
       "    </tr>\n",
       "    <tr>\n",
       "      <th>18</th>\n",
       "      <td>U.S.A. F32</td>\n",
       "      <td>TBA</td>\n",
       "    </tr>\n",
       "    <tr>\n",
       "      <th>19</th>\n",
       "      <td>U.S.A. F5</td>\n",
       "      <td>TBA</td>\n",
       "    </tr>\n",
       "    <tr>\n",
       "      <th>20</th>\n",
       "      <td>Zimbabwe F1</td>\n",
       "      <td>TBA</td>\n",
       "    </tr>\n",
       "  </tbody>\n",
       "</table>\n",
       "</div>"
      ],
      "text/plain": [
       "           Tournament Location\n",
       "0   Botswana F1        TBA    \n",
       "1   Egypt F1           TBA    \n",
       "2   Egypt F2           TBA    \n",
       "3   Egypt F3           TBA    \n",
       "4   France F13         TBA    \n",
       "5   Great Britain F10  TBC    \n",
       "6   Great Britain F7   TBA    \n",
       "7   Great Britain F9   TBC    \n",
       "8   India F4           TBA    \n",
       "9   India F5           TBA    \n",
       "10  Italy F10          TBA    \n",
       "11  Italy F4           TBA    \n",
       "12  Italy F5           TBA    \n",
       "13  Italy F9           TBA    \n",
       "14  U.S.A. F13         TBA    \n",
       "15  U.S.A. F21         TBA    \n",
       "16  U.S.A. F29         TBA    \n",
       "17  U.S.A. F30         TBD    \n",
       "18  U.S.A. F32         TBA    \n",
       "19  U.S.A. F5          TBA    \n",
       "20  Zimbabwe F1        TBA    "
      ]
     },
     "execution_count": 11,
     "metadata": {},
     "output_type": "execute_result"
    }
   ],
   "source": [
    "# Verificar casos 'TBA' (To Be Announced), 'TBC'(To Be Confirmed) e 'TBD'(To Be Determined)\n",
    "df_TBA_TBC_TBD = atp[atp['Location'].isin(['TBA', 'TBC', 'TBD'])].groupby('Tournament').first().reset_index()\n",
    "df_TBA_TBC_TBD[['Tournament','Location']]"
   ]
  },
  {
   "cell_type": "markdown",
   "id": "fe184426",
   "metadata": {},
   "source": [
    "> Tal como visível no *output* acima, pelo nome de cada torneio é deduzível a sua localização. Desta forma, alterámos todas as ocorrências com essas terminologias para o respetivo país em que ocorreu o torneio."
   ]
  },
  {
   "cell_type": "code",
   "execution_count": 12,
   "id": "f85be97d",
   "metadata": {},
   "outputs": [],
   "source": [
    "# Associação do TBA, TBC e TBD à Location correta \n",
    "atp.loc[(atp['Location'] == 'TBA') & (atp['Tournament'].str.contains('Botswana')), 'Location'] = 'Botswana'\n",
    "atp.loc[(atp['Location'] == 'TBA') & (atp['Tournament'].str.contains('Egypt')), 'Location'] = 'Egypt'\n",
    "atp.loc[(atp['Location'] == 'TBA') & (atp['Tournament'].str.contains('France')), 'Location'] = 'France'\n",
    "atp.loc[(atp['Location'] == 'TBA') & (atp['Tournament'].str.contains('Great Britain')), 'Location'] = 'United Kingdom'\n",
    "atp.loc[(atp['Location'] == 'TBA') & (atp['Tournament'].str.contains('India')), 'Location'] = 'India'\n",
    "atp.loc[(atp['Location'] == 'TBA') & (atp['Tournament'].str.contains('Italy')), 'Location'] = 'Italy'\n",
    "atp.loc[(atp['Location'] == 'TBA') & (atp['Tournament'].str.contains('U.S.A.')), 'Location'] = 'United States'\n",
    "atp.loc[(atp['Location'] == 'TBA') & (atp['Tournament'].str.contains('Zimbabwe')), 'Location'] = 'Zimbabwe'\n",
    "\n",
    "atp['Location'] = atp['Location'].replace({\"TBC\":\"United Kingdom\", \"TBD\":\"United States\"})"
   ]
  },
  {
   "cell_type": "markdown",
   "id": "d714e1c6",
   "metadata": {},
   "source": [
    "---"
   ]
  },
  {
   "cell_type": "markdown",
   "id": "9f0d43fd",
   "metadata": {},
   "source": [
    "## Valores discordantes de `Location`"
   ]
  },
  {
   "cell_type": "code",
   "execution_count": 13,
   "id": "88264361",
   "metadata": {},
   "outputs": [],
   "source": [
    "# Dicionário {designação discordante: designação correta}\n",
    "uniformizar_paises_torneios = { \n",
    "    \"'s-Hertogenbosch\":\"Netherlands\",\n",
    "    \"Abidjan\":\"Côte d'Ivoire\",\n",
    "    \"Calgary, Alberta\":\"Canada\",\n",
    "    \"Angleur - Liege\":\"Belgium\",\n",
    "    \"Antalya, Antalya\":\"Turkey\",\n",
    "    \"Fayetteville, Fayetteville, AR\":\"United States\",\n",
    "    \"Cordoba, ARG\":\"Argentina\",\n",
    "    \"Buenos Aires, Arg.\":\"Argentina\",\n",
    "    \"Buenos Aires, Argent\":\"Argentina\",\n",
    "    \"St Anton-Tirol, Aut.\":\"Austria\",\n",
    "    \"Bahia\":\"Brazil\",\n",
    "    \"Bakio, Bakio\":\"Spain\",\n",
    "    \"Bangkok\":\"Thailand\",\n",
    "    \"Barcelona\":\"Spain\",\n",
    "    \"Belgrade, Belgrade\":\"Serbia\",\n",
    "    \"Bolivia\":\"Bolivia, Plurinational State of\",\n",
    "    \"Sarajevo, Bosnia\":\"Bosnia and Herzegovina\",\n",
    "    \"Banja Luka, Bosnia &amp; Herzegovina\":\"Bosnia and Herzegovina\",\n",
    "    \"Botwana\":\"Botswana\",\n",
    "    \"Bourg-en-Bresse, Bourg-en-Bresse\":\"France\",\n",
    "    \"Florianopolis, BRA\":\"Brazil\",\n",
    "    \"Brasilia\":\"Brazil\",\n",
    "    \"Bratislava\":\"Slovakia\",\n",
    "    \"Braunschweig\":\"Germany\",\n",
    "    \"Santa Caterina, Braz\":\"Brazil\",\n",
    "    \"Brazi\":\"Brazil\",\n",
    "    \"Birmingham, Britain\":\"United Kingdom\",\n",
    "    \"Brunei\":\"Brunei Darussalam\",\n",
    "    \"Bucharest\":\"Romania\",\n",
    "    \"Buenos Aires\":\"Argentina\",\n",
    "    \"Calgary\":\"Canada\",\n",
    "    \"Rock-Forest, Canda\":\"Canada\",\n",
    "    \"Caribbean\":\"Puerto Rico\",\n",
    "    \"Casablanca\":\"Morocco\",\n",
    "    \"Tao Yuan, Chinese Ta\":\"Taiwan, Province of China\",\n",
    "    \"Taipei, Chinese Taip\":\"Taiwan, Province of China\",\n",
    "    \"Kaohsiung, Chinese Taipei\":\"Taiwan, Province of China\",\n",
    "    \"Ciudad de Habana\":\"Cuba\",\n",
    "    \"Abidjan, CIV\":\"Côte d'Ivoire\",\n",
    "    \"Santa de Bogota, Col\":\"Colombia\",\n",
    "    \"Bogota, Columbia\":\"Colombia\",\n",
    "    \"Constanta\":\"Romania\",\n",
    "    \"Veli Losinj, Crotia\":\"Croatia\",\n",
    "    \"Prostejov, CZE\":\"Czech Republic\",\n",
    "    \"Ostrava, Czech Rep.\":\"Czech Republic\",\n",
    "    \"Liberec, Czech Repub\":\"Czech Republic\",\n",
    "    \"Czechoslovakia\":\"Slovakia\",\n",
    "    \"Santo Domingo, D.R.\":\"Dominican Republic\",\n",
    "    \"Delray Beach\":\"United States\",\n",
    "    \"Rungsted Kyst, DEN.\":\"Denmark\",\n",
    "    \"Devon\":\"United Kingdom\",\n",
    "    \"Devonport\":\"United Kingdom\",\n",
    "    \"Doha\":\"Qatar\",\n",
    "    \"Domincan Republic\":\"Qatar\",\n",
    "    \"Dublin\":\"Ireland\",\n",
    "    \"Emmastad, Dutch Anti\":\"Netherlands\",\n",
    "    \"Curacao, Dutch Antil\":\"Netherlands\",\n",
    "    \"Cairo, Egpyt\":\"Egypt\",\n",
    "    \"Elndhoven\":\"Netherlands\",\n",
    "    \"London, England\":\"United Kingdom\",\n",
    "    \"Esch-sur-Alzette, Esch-sur-Alzette\":\"Luxembourg\",\n",
    "    \"Esch/Alzette\":\"Luxembourg\",\n",
    "    \"Estoril\":\"Portugal\",\n",
    "    \"Cairo, Eygpt\":\"Egypt\",\n",
    "    \"Faro\":\"Portugal\",\n",
    "    \"Lautoka, Fiji Island\":\"Fiji\",\n",
    "    \"Florianapolis\":\"Brazil\",\n",
    "    \"Forbach, Forbach\":\"France\",\n",
    "    \"Birmingham, GBR\":\"United Kingdom\",\n",
    "    \"London, Great Britain\":\"United Kingdom\",\n",
    "    \"Guatemala City, GUA\":\"Guatemala\",\n",
    "    \"Guarulhos\":\"Brazil\",\n",
    "    \"Guatemala City\":\"Guatemala\",\n",
    "    \"Guayaquil\":\"Ecuador\",\n",
    "    \"Harare\":\"Zimbabwe\",\n",
    "    \"Ramat, Hasharon\":\"Israel\",\n",
    "    \"Havana\":\"Cuba\",\n",
    "    \"Hong Kong, HKG\":\"Hong Kong\",\n",
    "    \"Hodmezovasarhely, Hu\":\"Hungary\",\n",
    "    \"Szombathely, Hunary\":\"Hungary\",\n",
    "    \"Jakarta, INA\":\"Indonesia\",\n",
    "    \"Kish, Iran\":\"Iran, Islamic Republic of\",\n",
    "    \"Ramat Hasharon, ISR\":\"Israel\",\n",
    "    \"Ramat Hasharon, Isra\":\"Israel\",\n",
    "    \"Torre Del Greco, Ita\":\"Italy\",\n",
    "    \"Abidjan, Ivory Coast\":\"Côte d'Ivoire\",\n",
    "    \"Jakarta\":\"Indonesia\",\n",
    "    \"Johannesburg\":\"Indonesia\",\n",
    "    \"Kaohsiung\":\"Taiwan, Province of China\",\n",
    "    \"Kolkata\":\"India\",\n",
    "    \"Changwon, Korea\":\"Korea, Republic of\",\n",
    "    \"Korolev\":\"Russian Federation\",\n",
    "    \"Kuala Lampur\":\"Malaysia\",\n",
    "    \"Lahore\":\"Pakistan\",\n",
    "    \"Laos\":\"Lao People's Democratic Republic\",\n",
    "    \"Lara\":\"Venezuela, Bolivarian Republic of\",\n",
    "    \"Martinique, Lesser Antilles\":\"Martinique\",\n",
    "    \"Liege\":\"Belgium\",\n",
    "    \"London\":\"United Kingdom\",\n",
    "    \"Skopje, Macedona\":\"Macedonia, the Former Yugoslav Republic of\",\n",
    "    \"Skopje, Macedonia\":\"Macedonia, the Former Yugoslav Republic of\",\n",
    "    \"Manila\":\"Philippines\",\n",
    "    \"Manilla\":\"Philippines\",\n",
    "    \"Kuala Lumpur, MAS\":\"Malaysia\",\n",
    "    \"Coatzacoalcos, Meixco\":\"Mexico\",\n",
    "    \"Melilla, Melilla\":\"Spain\",\n",
    "    \"Mexica\":\"Mexico\",\n",
    "    \"Mexico City\":\"Mexico\",\n",
    "    \"Minsk\":\"Belarus\",\n",
    "    \"Chisinau, Moldova\":\"Moldova, Republic of\",\n",
    "    \"Chisinau, Moldovia\":\"Moldova, Republic of\",\n",
    "    \"Monastir, Monastir\":\"Tunisia\",\n",
    "    \"Mondorf-Les-Bains\":\"Luxembourg\",\n",
    "    \"Montevideo\":\"Uruguay\",\n",
    "    \"Moscow\":\"Russian Federation\",\n",
    "    \"Nanjing\":\"China\",\n",
    "    \"Rotterdam, NED\":\"Netherlands\",\n",
    "    \"Nelspruit\":\"South Africa\",\n",
    "    \"Neuchatel\":\"Switzerland\",\n",
    "    \"Noumea, New Caledoni\":\"New Caledonia\",\n",
    "    \"Auckland, New Zealan\":\"New Zealand\",\n",
    "    \"Novaya Kakhovka\":\"Ukraine\",\n",
    "    \"Hamilton, NZ\":\"Canada\",\n",
    "    \"Invercargill, NZL\":\"New Zealand\",\n",
    "    \"Oklahoma City, OK\":\"United States\",\n",
    "    \"Mississauga, Ontaria\":\"Canada\",\n",
    "    \"Pacific Oceania\":\"Australia\",\n",
    "    \"Palma de Mallorca\":\"Spain\",\n",
    "    \"Pau\":\"France\",\n",
    "    \"Pasig City, PHI\":\"Philippines\",\n",
    "    \"Phillipines\":\"Philippines\",\n",
    "    \"Polokwane\":\"South Africa\",\n",
    "    \"Portoroz\":\"Slovenia\",\n",
    "    \"Portschach\":\"Austria\",\n",
    "    \"Presov\":\"Slovakia\",\n",
    "    \"Pretoria\":\"South Africa\",\n",
    "    \"Ramat Hasharon\":\"Israel\",\n",
    "    \"Reggio Calabria\":\"Italy\",\n",
    "    \"Reunion Island, Reunion Island\":\"France\",\n",
    "    \"Rio de Janeiro\":\"Brazil\",\n",
    "    \"Russia\":\"Russian Federation\",\n",
    "    \"Cape Town, SA\":\"South Africa\",\n",
    "    \"Salinas\":\"United States\",\n",
    "    \"El Salvador, Salvador\":\"El Salvador\",\n",
    "    \"El Salvador, San Salvador\":\"El Salvador\",\n",
    "    \"Santa Cruz de la Sie\":\"Bolivia, Plurinational State of\",\n",
    "    \"Chile, Santiago\":\"Chile\",\n",
    "    \"Santo Domingo\":\"Dominican Republic\",\n",
    "    \"Sassari, Sardinia\":\"Italy\",\n",
    "    \"Belgrade, SCG\":\"Serbia\",\n",
    "    \"Glasgow, Scotland\":\"United Kingdom\",\n",
    "    \"Serbia &amp; Montenegro\":\"Montenegro\",\n",
    "    \"Nova Sad, SErgia &amp; M\":\"Serbia\",\n",
    "    \"Sharm El Sheikh\":\"Egypt\",\n",
    "    \"Poprad, Slovak\":\"Slovakia\",\n",
    "    \"Bratislava, Slovak R\":\"Slovakia\",\n",
    "    \"Slovak Republic\":\"Slovakia\",\n",
    "    \"Kosice, Slovkia\":\"Slovakia\",\n",
    "    \"Portoroz, Solvenia\":\"Slovenia\",\n",
    "    \"Doornfontein, South\":\"South Africa\",\n",
    "    \"Durban, South  Africa\":\"South Africa\",\n",
    "    \"Busan, South Korea\":\"Korea, Republic of\",\n",
    "    \"Soviet Union\":\"Russian Federation\",\n",
    "    \"Surabaya\":\"Indonesia\",\n",
    "    \"St.Gallen, Switz.\":\"Switzerland\",\n",
    "    \"Syria\":\"Syrian Arab Republic\",\n",
    "    \"Taipei\":\"Taiwan, Province of China\",\n",
    "    \"Kaohsiung, Taiwan\":\"Taiwan, Province of China\",\n",
    "    \"Tashkent\":\"Uzbekistan\",\n",
    "    \"Burnie, Tasmania\":\"Australia\",\n",
    "    \"Tehran\":\"Iran, Islamic Republic of\",\n",
    "    \"Houston, Texas\":\"United States\",\n",
    "    \"Nonthaburi, THA\":\"Thailand\",\n",
    "    \"The Hague, The Hague\":\"Netherlands\",\n",
    "    \"Amsterdam, The Nethe\":\"Netherlands\",\n",
    "    \"Amsterdam, The Netherlands\":\"Netherlands\",\n",
    "    \"Toluca\":\"Mexico\",\n",
    "    \"Toulouse\":\"France\",\n",
    "    \"Tai-Chung, TPE\":\"Taiwan, Province of China\",\n",
    "    \"Port-of-Spain, TRI\":\"Trinidad and Tobago\",\n",
    "    \"Tunis\":\"Tunisia\",\n",
    "    \"Dubai, U.A.E.\":\"United Arab Emirates\",\n",
    "    \"Columbus, OH, U.S.A\":\"United States\",\n",
    "    \"New York, NY, U.S.A.\":\"United States\",\n",
    "    \"Birmingham, UK\":\"United Kingdom\",\n",
    "    \"Carson, CA, United S\":\"United States\",\n",
    "    \"Montevideo, Uraguay\":\"Uruguay\",\n",
    "    \"Uriage, Uriage\":\"France\",\n",
    "    \"Montevideo, URU\":\"Uruguay\",\n",
    "    \"Urugay\":\"Uruguay\",\n",
    "    \"Las Vegas, NV, USA\":\"United States\",\n",
    "    \"Tashkent, Uzb.\":\"Uzbekistan\",\n",
    "    \"Valldoreix, Valldoreix\":\"Spain\",\n",
    "    \"Venezeuela\":\"Venezuela, Bolivarian Republic of\",\n",
    "    \"Venezuela\":\"Venezuela, Bolivarian Republic of\",\n",
    "    \"Sale, Victoria\":\"Australia\",\n",
    "    \"Ho Chi Minh City, Vietnam\":\"Viet Nam\",\n",
    "    \"Villavicencio\":\"Colombia\",\n",
    "    \"Wrexham, Wales\":\"United Kingdom\",\n",
    "    \"Wellington\":\"New Zealand\",\n",
    "    \"West Perth\":\"Australia\",\n",
    "    \"Wetzlar, Wetzlar\":\"Germany\",\n",
    "    \"Willemstad\":\"Curaçao\",\n",
    "    \"Wroclaw, Wrocklaw\":\"Poland\",\n",
    "    \"Wuhan\":\"China\",\n",
    "    \"Belgrade, Yug.\":\"Serbia\",\n",
    "    \"Belgrade, Yugoslavia\":\"Serbia\",\n",
    "}"
   ]
  },
  {
   "cell_type": "markdown",
   "id": "b82fbf8d",
   "metadata": {},
   "source": [
    "## Aplicar"
   ]
  },
  {
   "cell_type": "code",
   "execution_count": 14,
   "id": "a7037de7",
   "metadata": {},
   "outputs": [],
   "source": [
    "# Uniformização dos termos conforme os apresentados no dataframe 'df_countries'\n",
    "atp['Location_Clean'] = atp['Location'].str.strip().replace(uniformizar_paises_torneios)\n",
    "\n",
    "atp['Location_Clean'] = np.where(atp['Location_Clean'].isin(df_countries['Name']),\n",
    "                                 atp['Location_Clean'], atp['Location_Clean'].str.split(',').str[-1].str.strip())"
   ]
  },
  {
   "cell_type": "code",
   "execution_count": 15,
   "id": "844763cf",
   "metadata": {},
   "outputs": [
    {
     "name": "stdout",
     "output_type": "stream",
     "text": [
      "Nº de Designações Distintas: 176\n"
     ]
    },
    {
     "data": {
      "text/plain": [
       "array(['Spain', 'United Arab Emirates', 'Italy', 'France',\n",
       "       'United States', 'Japan', 'United Kingdom', 'Serbia', 'Monaco',\n",
       "       'Australia', 'Austria', 'China', 'U.S.A.', 'Qatar', 'Canada',\n",
       "       'Great Britain', 'Mexico', 'Brazil', 'Belgium', 'Switzerland',\n",
       "       'Croatia', 'Netherlands', 'Germany', 'Thailand', 'Slovakia',\n",
       "       'Russian Federation', 'Portugal', 'Israel', 'Finland',\n",
       "       'Slovak Republic', 'Romania', 'Hungary', 'Montenegro', 'Russia',\n",
       "       'Bulgaria', 'India', 'Slovenia', 'Kazakhstan',\n",
       "       'Taiwan, Province of China', 'Belarus', 'Tunisia', 'Estonia',\n",
       "       'Georgia', 'Czech Republic', 'Argentina', 'Denmark', 'Chile',\n",
       "       'Sweden', 'New Zealand', 'Poland', 'Morocco', 'Malaysia', 'Turkey',\n",
       "       'Colombia', 'Panama', 'San Marino', 'Philippines', 'Guadeloupe',\n",
       "       'New Caledonia', 'Greece', 'Cyprus', 'Uzbekistan',\n",
       "       'Dominican Republic', 'Norway', 'USA', 'Ecuador', 'Uruguay',\n",
       "       'Peru', 'Latvia', 'Luxembourg', 'Lithuania',\n",
       "       'Bosnia and Herzegovina', 'Korea, Republic of', 'South Korea',\n",
       "       'Bosnia &amp; Herzegovina', 'Egypt', 'U.S.A', 'Viet Nam',\n",
       "       'Paraguay', 'Bolivia, Plurinational State of', 'Armenia',\n",
       "       'Bermuda', 'Singapore', 'South Africa', 'England', 'Togo',\n",
       "       'Chinese Taipei', 'The Netherlands', 'Ireland', 'Barbados',\n",
       "       'Costa Rica', 'Guatemala', 'Iran, Islamic Republic of', 'Zimbabwe',\n",
       "       'Mozambique', 'Nigeria', 'Korea', 'Senegal',\n",
       "       'Moldova, Republic of', 'Cambodia', 'Bahrain', 'Bolivia',\n",
       "       'Hong Kong', 'Pakistan', 'Ukraine', 'Vietnam', 'Kuwait',\n",
       "       'Azerbaijan', 'Sri Lanka', 'Algeria', 'Iran', 'Puerto Rico',\n",
       "       'El Salvador', 'Venezuela, Bolivarian Republic of', 'Gabon',\n",
       "       'Indonesia', 'Cuba', 'Venezuela', 'Haiti', 'Andorra', 'Scotland',\n",
       "       \"Côte d'Ivoire\", 'Mauritius', 'Jamaica', 'Nicaragua', 'Lebanon',\n",
       "       'Macedonia, the Former Yugoslav Republic of', 'Doha', 'Macedonia',\n",
       "       'Guam', 'Rwanda', 'Burundi', 'Sudan', 'Uganda', 'Cameroon',\n",
       "       'U.A.E.', 'Tasmania', 'Crotia', 'Canda', 'Saudi Arabia', 'Kenya',\n",
       "       'Syrian Arab Republic', 'Belgrade', 'Yugoslavia', 'Honduras',\n",
       "       'Taipei', 'Ghana', 'Aruba', \"Lao People's Democratic Republic\",\n",
       "       'Bolivia/Chile', 'Myanmar', 'Oman', 'Samoa', 'Syria', 'Madagascar',\n",
       "       'Botswana', 'Trinidad and Tobago', 'Bahamas', 'Namibia', 'Slovak',\n",
       "       'Tajikistan', 'HKG', 'Jordan', 'Bangladesh', 'NZ', 'COL',\n",
       "       'Brunei Darussalam', 'Taiwan', 'Czechoslovakia', 'Ivory Coast',\n",
       "       'Fiji', 'Martinique', 'Malta', 'Curaçao', 'Brunei', 'Curacao'],\n",
       "      dtype=object)"
      ]
     },
     "execution_count": 15,
     "metadata": {},
     "output_type": "execute_result"
    }
   ],
   "source": [
    "# Verificação da Uniformização\n",
    "print(\"Nº de Designações Distintas:\",atp['Location_Clean'].nunique())\n",
    "atp['Location_Clean'].unique()"
   ]
  },
  {
   "cell_type": "markdown",
   "id": "c519fcc2",
   "metadata": {},
   "source": [
    "---"
   ]
  },
  {
   "cell_type": "code",
   "execution_count": 16,
   "id": "0532347b",
   "metadata": {
    "scrolled": false
   },
   "outputs": [
    {
     "data": {
      "text/html": [
       "<div>\n",
       "<style scoped>\n",
       "    .dataframe tbody tr th:only-of-type {\n",
       "        vertical-align: middle;\n",
       "    }\n",
       "\n",
       "    .dataframe tbody tr th {\n",
       "        vertical-align: top;\n",
       "    }\n",
       "\n",
       "    .dataframe thead th {\n",
       "        text-align: right;\n",
       "    }\n",
       "</style>\n",
       "<table border=\"1\" class=\"dataframe\">\n",
       "  <thead>\n",
       "    <tr style=\"text-align: right;\">\n",
       "      <th></th>\n",
       "      <th>Location_Clean</th>\n",
       "      <th>Location</th>\n",
       "    </tr>\n",
       "  </thead>\n",
       "  <tbody>\n",
       "    <tr>\n",
       "      <th>0</th>\n",
       "      <td>Belgrade</td>\n",
       "      <td>Belgrade</td>\n",
       "    </tr>\n",
       "    <tr>\n",
       "      <th>1</th>\n",
       "      <td>Bolivia</td>\n",
       "      <td>Santa Cruz, Bolivia</td>\n",
       "    </tr>\n",
       "    <tr>\n",
       "      <th>2</th>\n",
       "      <td>Bolivia/Chile</td>\n",
       "      <td>Bolivia/Chile</td>\n",
       "    </tr>\n",
       "    <tr>\n",
       "      <th>3</th>\n",
       "      <td>Bosnia &amp;amp; Herzegovina</td>\n",
       "      <td>Zenica, Bosnia &amp;amp; Herzegovina</td>\n",
       "    </tr>\n",
       "    <tr>\n",
       "      <th>4</th>\n",
       "      <td>Brunei</td>\n",
       "      <td>Brunei, Brunei</td>\n",
       "    </tr>\n",
       "    <tr>\n",
       "      <th>5</th>\n",
       "      <td>COL</td>\n",
       "      <td>Villavicencio, COL</td>\n",
       "    </tr>\n",
       "    <tr>\n",
       "      <th>6</th>\n",
       "      <td>Canda</td>\n",
       "      <td>Rimouski, Canda</td>\n",
       "    </tr>\n",
       "    <tr>\n",
       "      <th>7</th>\n",
       "      <td>Chinese Taipei</td>\n",
       "      <td>Chinese Taipei</td>\n",
       "    </tr>\n",
       "    <tr>\n",
       "      <th>8</th>\n",
       "      <td>Crotia</td>\n",
       "      <td>Valpovo, Crotia</td>\n",
       "    </tr>\n",
       "    <tr>\n",
       "      <th>9</th>\n",
       "      <td>Curacao</td>\n",
       "      <td>Willemstad, Curacao</td>\n",
       "    </tr>\n",
       "    <tr>\n",
       "      <th>10</th>\n",
       "      <td>Czechoslovakia</td>\n",
       "      <td>Prague, Czechoslovakia</td>\n",
       "    </tr>\n",
       "    <tr>\n",
       "      <th>11</th>\n",
       "      <td>Doha</td>\n",
       "      <td>Doha, Doha</td>\n",
       "    </tr>\n",
       "    <tr>\n",
       "      <th>12</th>\n",
       "      <td>England</td>\n",
       "      <td>Nottingham, England</td>\n",
       "    </tr>\n",
       "    <tr>\n",
       "      <th>13</th>\n",
       "      <td>Great Britain</td>\n",
       "      <td>Eastbourne, Great Britain</td>\n",
       "    </tr>\n",
       "    <tr>\n",
       "      <th>14</th>\n",
       "      <td>HKG</td>\n",
       "      <td>Causeway Bay, HKG</td>\n",
       "    </tr>\n",
       "    <tr>\n",
       "      <th>15</th>\n",
       "      <td>Iran</td>\n",
       "      <td>Iran</td>\n",
       "    </tr>\n",
       "    <tr>\n",
       "      <th>16</th>\n",
       "      <td>Ivory Coast</td>\n",
       "      <td>Ivory Coast</td>\n",
       "    </tr>\n",
       "    <tr>\n",
       "      <th>17</th>\n",
       "      <td>Korea</td>\n",
       "      <td>Busan, Korea</td>\n",
       "    </tr>\n",
       "    <tr>\n",
       "      <th>18</th>\n",
       "      <td>Macedonia</td>\n",
       "      <td>Kaarina, Macedonia</td>\n",
       "    </tr>\n",
       "    <tr>\n",
       "      <th>19</th>\n",
       "      <td>NZ</td>\n",
       "      <td>Wellington, NZ</td>\n",
       "    </tr>\n",
       "    <tr>\n",
       "      <th>20</th>\n",
       "      <td>Russia</td>\n",
       "      <td>St. Petersburg, Russia</td>\n",
       "    </tr>\n",
       "    <tr>\n",
       "      <th>21</th>\n",
       "      <td>Scotland</td>\n",
       "      <td>Edinburgh, Scotland</td>\n",
       "    </tr>\n",
       "    <tr>\n",
       "      <th>22</th>\n",
       "      <td>Slovak</td>\n",
       "      <td>Bratislava, Slovak</td>\n",
       "    </tr>\n",
       "    <tr>\n",
       "      <th>23</th>\n",
       "      <td>Slovak Republic</td>\n",
       "      <td>Bratislava, Slovak Republic</td>\n",
       "    </tr>\n",
       "    <tr>\n",
       "      <th>24</th>\n",
       "      <td>South Korea</td>\n",
       "      <td>Seoul, South Korea</td>\n",
       "    </tr>\n",
       "    <tr>\n",
       "      <th>25</th>\n",
       "      <td>Syria</td>\n",
       "      <td>Damascus, Syria</td>\n",
       "    </tr>\n",
       "    <tr>\n",
       "      <th>26</th>\n",
       "      <td>Taipei</td>\n",
       "      <td>Kaohsiung City, Taipei</td>\n",
       "    </tr>\n",
       "    <tr>\n",
       "      <th>27</th>\n",
       "      <td>Taiwan</td>\n",
       "      <td>Taipei, Taiwan</td>\n",
       "    </tr>\n",
       "    <tr>\n",
       "      <th>28</th>\n",
       "      <td>Tasmania</td>\n",
       "      <td>Devonport, Tasmania</td>\n",
       "    </tr>\n",
       "    <tr>\n",
       "      <th>29</th>\n",
       "      <td>The Netherlands</td>\n",
       "      <td>The Netherlands</td>\n",
       "    </tr>\n",
       "    <tr>\n",
       "      <th>30</th>\n",
       "      <td>U.A.E.</td>\n",
       "      <td>U.A.E.</td>\n",
       "    </tr>\n",
       "    <tr>\n",
       "      <th>31</th>\n",
       "      <td>U.S.A</td>\n",
       "      <td>New York, NY, U.S.A</td>\n",
       "    </tr>\n",
       "    <tr>\n",
       "      <th>32</th>\n",
       "      <td>U.S.A.</td>\n",
       "      <td>Cincinnati, OH, U.S.A.</td>\n",
       "    </tr>\n",
       "    <tr>\n",
       "      <th>33</th>\n",
       "      <td>USA</td>\n",
       "      <td>Fairfield, CA, USA</td>\n",
       "    </tr>\n",
       "    <tr>\n",
       "      <th>34</th>\n",
       "      <td>Venezuela</td>\n",
       "      <td>Caracas, Venezuela, Venezuela</td>\n",
       "    </tr>\n",
       "    <tr>\n",
       "      <th>35</th>\n",
       "      <td>Vietnam</td>\n",
       "      <td>Da Nang, Vietnam</td>\n",
       "    </tr>\n",
       "    <tr>\n",
       "      <th>36</th>\n",
       "      <td>Yugoslavia</td>\n",
       "      <td>Yugoslavia</td>\n",
       "    </tr>\n",
       "  </tbody>\n",
       "</table>\n",
       "</div>"
      ],
      "text/plain": [
       "              Location_Clean                          Location\n",
       "0   Belgrade                  Belgrade                        \n",
       "1   Bolivia                   Santa Cruz, Bolivia             \n",
       "2   Bolivia/Chile             Bolivia/Chile                   \n",
       "3   Bosnia &amp; Herzegovina  Zenica, Bosnia &amp; Herzegovina\n",
       "4   Brunei                    Brunei, Brunei                  \n",
       "5   COL                       Villavicencio, COL              \n",
       "6   Canda                     Rimouski, Canda                 \n",
       "7   Chinese Taipei            Chinese Taipei                  \n",
       "8   Crotia                    Valpovo, Crotia                 \n",
       "9   Curacao                   Willemstad, Curacao             \n",
       "10  Czechoslovakia            Prague, Czechoslovakia          \n",
       "11  Doha                      Doha, Doha                      \n",
       "12  England                   Nottingham, England             \n",
       "13  Great Britain             Eastbourne, Great Britain       \n",
       "14  HKG                       Causeway Bay, HKG               \n",
       "15  Iran                      Iran                            \n",
       "16  Ivory Coast               Ivory Coast                     \n",
       "17  Korea                     Busan, Korea                    \n",
       "18  Macedonia                 Kaarina, Macedonia              \n",
       "19  NZ                        Wellington, NZ                  \n",
       "20  Russia                    St. Petersburg, Russia          \n",
       "21  Scotland                  Edinburgh, Scotland             \n",
       "22  Slovak                    Bratislava, Slovak              \n",
       "23  Slovak Republic           Bratislava, Slovak Republic     \n",
       "24  South Korea               Seoul, South Korea              \n",
       "25  Syria                     Damascus, Syria                 \n",
       "26  Taipei                    Kaohsiung City, Taipei          \n",
       "27  Taiwan                    Taipei, Taiwan                  \n",
       "28  Tasmania                  Devonport, Tasmania             \n",
       "29  The Netherlands           The Netherlands                 \n",
       "30  U.A.E.                    U.A.E.                          \n",
       "31  U.S.A                     New York, NY, U.S.A             \n",
       "32  U.S.A.                    Cincinnati, OH, U.S.A.          \n",
       "33  USA                       Fairfield, CA, USA              \n",
       "34  Venezuela                 Caracas, Venezuela, Venezuela   \n",
       "35  Vietnam                   Da Nang, Vietnam                \n",
       "36  Yugoslavia                Yugoslavia                      "
      ]
     },
     "execution_count": 16,
     "metadata": {},
     "output_type": "execute_result"
    }
   ],
   "source": [
    "# Filtrar países não encontrados no df_countries\n",
    "atp[~atp['Location_Clean'].isin(df_countries['Name'])][['Location', 'Location_Clean']].groupby('Location_Clean').first().reset_index()"
   ]
  },
  {
   "cell_type": "markdown",
   "id": "0564afa0",
   "metadata": {},
   "source": [
    "> Ficaram ainda **36 designações de países** distintas daquelas que estão presentes no `df_countries`. Utilizaremos outras estratégia de seguida. "
   ]
  },
  {
   "cell_type": "markdown",
   "id": "1112b819",
   "metadata": {},
   "source": [
    "---"
   ]
  },
  {
   "cell_type": "code",
   "execution_count": 17,
   "id": "81348466",
   "metadata": {},
   "outputs": [],
   "source": [
    "# Casos Particulares - Não fez a limpeza com o código replace()\n",
    "atp.loc[atp['Location_Clean'].str.contains(\"U.S.A.\", na=False), 'Location_Clean'] = \"United States\"\n",
    "atp.loc[atp['Location_Clean'].str.contains(\"Great Britain\", na=False), 'Location_Clean'] = \"United Kingdom\"\n",
    "atp.loc[atp['Location_Clean'].str.contains(\"Slovak Republic\", na=False), 'Location_Clean'] = \"Slovakia\"\n",
    "atp.loc[atp['Location_Clean'].str.contains(\"Russia\", na=False), 'Location_Clean'] = \"Russian Federation\"\n",
    "atp.loc[atp['Location_Clean'].str.contains(\"USA\", na=False), 'Location_Clean'] = \"United States\"\n",
    "atp.loc[atp['Location_Clean'].str.contains(\"South Korea\", na=False), 'Location_Clean'] = \"Korea, Republic of\"\n",
    "atp.loc[atp['Location_Clean'].str.contains(\"Bosnia &amp; Herzegovina\", na=False), 'Location_Clean'] = \"Bosnia and Herzegovina\"\n",
    "atp.loc[atp['Location_Clean'].str.contains(\"U.S.A\", na=False), 'Location_Clean'] = \"United States\"\n",
    "atp.loc[atp['Location_Clean'].str.contains(\"England\", na=False), 'Location_Clean'] = \"United Kingdom\"\n",
    "atp.loc[atp['Location_Clean'].str.contains(\"Chinese Taipei\", na=False), 'Location_Clean'] = \"Taiwan, Province of China\"\n",
    "atp.loc[atp['Location_Clean'].str.contains(\"The Netherlands\", na=False), 'Location_Clean'] = \"Netherlands\"\n",
    "atp.loc[atp['Location_Clean'].str.contains(\"Korea\", na=False), 'Location_Clean'] = \"Korea, Republic of\"\n",
    "atp.loc[atp['Location_Clean'].str.contains(\"Bolivia\", na=False), 'Location_Clean'] = \"Bolivia, Plurinational State of\"\n",
    "atp.loc[atp['Location_Clean'].str.contains(\"Vietnam\", na=False), 'Location_Clean'] = \"Viet Nam\"\n",
    "atp.loc[atp['Location_Clean'].str.contains(\"Iran\", na=False), 'Location_Clean'] = \"Iran, Islamic Republic of\"\n",
    "atp.loc[atp['Location_Clean'].str.contains(\"Venezuela\", na=False), 'Location_Clean'] = \"Venezuela, Bolivarian Republic of\"\n",
    "atp.loc[atp['Location_Clean'].str.contains(\"Scotland\", na=False), 'Location_Clean'] = \"United Kingdom\"\n",
    "atp.loc[atp['Location_Clean'].str.contains(\"Doha\", na=False), 'Location_Clean'] = \"Qatar\"\n",
    "atp.loc[atp['Location_Clean'].str.contains(\"Macedonia\", na=False), 'Location_Clean'] = \"Macedonia, the Former Yugoslav Republic of\"\n",
    "atp.loc[atp['Location_Clean'].str.contains(\"U.A.E.\", na=False), 'Location_Clean'] = \"United Arab Emirates\"\n",
    "atp.loc[atp['Location_Clean'].str.contains(\"Tasmania\", na=False), 'Location_Clean'] = \"Australia\"\n",
    "atp.loc[atp['Location_Clean'].str.contains(\"Crotia\", na=False), 'Location_Clean'] = \"Croatia\"\n",
    "atp.loc[atp['Location_Clean'].str.contains(\"Canda\", na=False), 'Location_Clean'] = \"Canada\"\n",
    "atp.loc[atp['Location_Clean'].str.contains(\"Belgrade\", na=False), 'Location_Clean'] = \"Serbia\"\n",
    "atp.loc[atp['Location_Clean'].str.contains(\"Yugoslavia\", na=False), 'Location_Clean'] = \"Serbia\"\n",
    "atp.loc[atp['Location_Clean'].str.contains(\"Taipei\", na=False), 'Location_Clean'] = \"Taiwan, Province of China\"\n",
    "atp.loc[atp['Location_Clean'].str.contains(\"Bolivia/Chile\", na=False), 'Location_Clean'] = \"Chile\"\n",
    "atp.loc[atp['Location_Clean'].str.contains(\"Syria\", na=False), 'Location_Clean'] = \"Syrian Arab Republic\"\n",
    "atp.loc[atp['Location_Clean'].str.contains(\"Slovak\", na=False), 'Location_Clean'] = \"Slovakia\"\n",
    "atp.loc[atp['Location_Clean'].str.contains(\"HKG\", na=False), 'Location_Clean'] = \"United States\"\n",
    "atp.loc[atp['Location_Clean'].str.contains(\"NZ\", na=False), 'Location_Clean'] = \"United States\"\n",
    "atp.loc[atp['Location_Clean'].str.contains(\"COL\", na=False), 'Location_Clean'] = \"Colombia\"\n",
    "atp.loc[atp['Location_Clean'].str.contains(\"Taiwan\", na=False), 'Location_Clean'] = \"Taiwan, Province of China\"\n",
    "atp.loc[atp['Location_Clean'].str.contains(\"Czechoslovakia\", na=False), 'Location_Clean'] = \"Slovakia\"\n",
    "atp.loc[atp['Location_Clean'].str.contains(\"Ivory Coast\", na=False), 'Location_Clean'] = \"Côte d'Ivoire\"\n",
    "atp.loc[atp['Location_Clean'].str.contains(\"Brunei\", na=False), 'Location_Clean'] = \"Brunei Darussalam\"\n",
    "atp.loc[atp['Location_Clean'].str.contains(\"Curacao\", na=False), 'Location_Clean'] = \"Netherlands\""
   ]
  },
  {
   "cell_type": "code",
   "execution_count": 18,
   "id": "c9d4c8a2",
   "metadata": {},
   "outputs": [
    {
     "data": {
      "text/html": [
       "<div>\n",
       "<style scoped>\n",
       "    .dataframe tbody tr th:only-of-type {\n",
       "        vertical-align: middle;\n",
       "    }\n",
       "\n",
       "    .dataframe tbody tr th {\n",
       "        vertical-align: top;\n",
       "    }\n",
       "\n",
       "    .dataframe thead th {\n",
       "        text-align: right;\n",
       "    }\n",
       "</style>\n",
       "<table border=\"1\" class=\"dataframe\">\n",
       "  <thead>\n",
       "    <tr style=\"text-align: right;\">\n",
       "      <th></th>\n",
       "      <th>Location_Clean</th>\n",
       "      <th>Location</th>\n",
       "    </tr>\n",
       "  </thead>\n",
       "  <tbody>\n",
       "  </tbody>\n",
       "</table>\n",
       "</div>"
      ],
      "text/plain": [
       "Empty DataFrame\n",
       "Columns: [Location_Clean, Location]\n",
       "Index: []"
      ]
     },
     "execution_count": 18,
     "metadata": {},
     "output_type": "execute_result"
    }
   ],
   "source": [
    "# Confirmação da correta limpeza\n",
    "atp[~atp['Location_Clean'].isin(df_countries['Name'])][['Location', 'Location_Clean']].groupby('Location_Clean').first().reset_index()"
   ]
  },
  {
   "cell_type": "code",
   "execution_count": 19,
   "id": "a54bb0c6",
   "metadata": {},
   "outputs": [
    {
     "name": "stdout",
     "output_type": "stream",
     "text": [
      "Nº de Locations distintos: 139\n"
     ]
    }
   ],
   "source": [
    "print('Nº de Locations distintos:', atp['Location_Clean'].nunique())"
   ]
  },
  {
   "cell_type": "markdown",
   "id": "1e85faff",
   "metadata": {},
   "source": [
    "> Damos assim por terminada a limpeza da variável `Location`!!"
   ]
  },
  {
   "cell_type": "markdown",
   "id": "b45a5173",
   "metadata": {},
   "source": [
    "---"
   ]
  },
  {
   "cell_type": "markdown",
   "id": "e700af0f",
   "metadata": {},
   "source": [
    "## Restingir aos Jogos à `Suécia`"
   ]
  },
  {
   "cell_type": "code",
   "execution_count": 20,
   "id": "7e812ad3",
   "metadata": {},
   "outputs": [],
   "source": [
    "# Restringir à Suécia\n",
    "atp_suecia = atp[atp['Location_Clean'] == 'Sweden'].copy().reset_index()"
   ]
  },
  {
   "cell_type": "code",
   "execution_count": 21,
   "id": "35052864",
   "metadata": {},
   "outputs": [],
   "source": [
    "# Eliminar as variáveis 'Location' e 'Location_Clean'\n",
    "atp_suecia.drop(['index','Location','Location_Clean'], axis= 1, inplace= True)"
   ]
  },
  {
   "cell_type": "code",
   "execution_count": 22,
   "id": "0660b6e8",
   "metadata": {},
   "outputs": [
    {
     "name": "stdout",
     "output_type": "stream",
     "text": [
      "<class 'pandas.core.frame.DataFrame'>\n",
      "RangeIndex: 12277 entries, 0 to 12276\n",
      "Data columns (total 14 columns):\n",
      " #   Column      Non-Null Count  Dtype  \n",
      "---  ------      --------------  -----  \n",
      " 0   PlayerName  12277 non-null  object \n",
      " 1   Born        9944 non-null   object \n",
      " 2   Height      10031 non-null  float64\n",
      " 3   Hand        10904 non-null  object \n",
      " 4   LinkPlayer  12277 non-null  object \n",
      " 5   Tournament  12277 non-null  object \n",
      " 6   Date        12277 non-null  object \n",
      " 7   Ground      12277 non-null  object \n",
      " 8   Prize       11843 non-null  object \n",
      " 9   GameRound   12277 non-null  object \n",
      " 10  GameRank    12008 non-null  object \n",
      " 11  Oponent     12277 non-null  object \n",
      " 12  WL          12008 non-null  object \n",
      " 13  Score       12008 non-null  object \n",
      "dtypes: float64(1), object(13)\n",
      "memory usage: 1.3+ MB\n"
     ]
    }
   ],
   "source": [
    "# Verificar os valores não nulos\n",
    "atp_suecia.info()"
   ]
  },
  {
   "cell_type": "code",
   "execution_count": 23,
   "id": "eee7bf19",
   "metadata": {
    "scrolled": true
   },
   "outputs": [
    {
     "name": "stdout",
     "output_type": "stream",
     "text": [
      "Nº de Jogos na Suécia: 12277 ( 0.94 % do dataset total)\n"
     ]
    }
   ],
   "source": [
    "print('Nº de Jogos na Suécia:', len(atp_suecia), '(', round(len(atp_suecia)/len(atp) *100, 2),'% do dataset total)')"
   ]
  },
  {
   "cell_type": "code",
   "execution_count": 24,
   "id": "d22ff51e",
   "metadata": {},
   "outputs": [
    {
     "name": "stdout",
     "output_type": "stream",
     "text": [
      "Nº de Valores Omissos Inicial: 3132 ( 25.51 % do dataset total)\n"
     ]
    }
   ],
   "source": [
    "print('Nº de Valores Omissos Inicial:', atp_suecia.isna().any(axis=1).sum(), '(', round(atp_suecia.isna().any(axis=1).sum()/len(atp_suecia) * 100, 2),'% do dataset total)')"
   ]
  },
  {
   "cell_type": "markdown",
   "id": "ee0970b4",
   "metadata": {},
   "source": [
    "---"
   ]
  },
  {
   "cell_type": "markdown",
   "id": "797d6eaa",
   "metadata": {},
   "source": [
    "# <a class='anchor' id='22'></a>\n",
    "<div style=\"border: 3px #0371B1; border-style: solid;  \n",
    "            border-radius: 300px; padding: 20px;\">\n",
    "    <center><h1 style=\"margin-top: 2px;color: #0371B1; font-size: 20px;\n",
    "                       font-family: 'Avenir Next LT Pro', sans-serif;\"> 2.2 | Variável Tournament</h1></center>\n",
    "</div>"
   ]
  },
  {
   "cell_type": "code",
   "execution_count": 25,
   "id": "05475962",
   "metadata": {},
   "outputs": [
    {
     "name": "stdout",
     "output_type": "stream",
     "text": [
      "Nº de Valores Omissos: 0 ( 0.0 %)\n"
     ]
    }
   ],
   "source": [
    "# Contar os valores omissos na variável 'Tournament'\n",
    "print('Nº de Valores Omissos:',atp_suecia['Tournament'].isna().sum(), '(', round(atp_suecia['Tournament'].isna().sum()/len(atp_suecia['Tournament']) * 100, 2) ,'%)' )"
   ]
  },
  {
   "cell_type": "code",
   "execution_count": 26,
   "id": "0209a9fc",
   "metadata": {},
   "outputs": [
    {
     "data": {
      "text/html": [
       "<div>\n",
       "<style scoped>\n",
       "    .dataframe tbody tr th:only-of-type {\n",
       "        vertical-align: middle;\n",
       "    }\n",
       "\n",
       "    .dataframe tbody tr th {\n",
       "        vertical-align: top;\n",
       "    }\n",
       "\n",
       "    .dataframe thead th {\n",
       "        text-align: right;\n",
       "    }\n",
       "</style>\n",
       "<table border=\"1\" class=\"dataframe\">\n",
       "  <thead>\n",
       "    <tr style=\"text-align: right;\">\n",
       "      <th></th>\n",
       "      <th>Tournament</th>\n",
       "    </tr>\n",
       "  </thead>\n",
       "  <tbody>\n",
       "    <tr>\n",
       "      <th>Bastad</th>\n",
       "      <td>3082</td>\n",
       "    </tr>\n",
       "    <tr>\n",
       "      <th>Stockholm</th>\n",
       "      <td>2828</td>\n",
       "    </tr>\n",
       "    <tr>\n",
       "      <th>Sweden F2</th>\n",
       "      <td>1244</td>\n",
       "    </tr>\n",
       "    <tr>\n",
       "      <th>Sweden F1</th>\n",
       "      <td>1178</td>\n",
       "    </tr>\n",
       "    <tr>\n",
       "      <th>Sweden F3</th>\n",
       "      <td>655</td>\n",
       "    </tr>\n",
       "    <tr>\n",
       "      <th>...</th>\n",
       "      <td>...</td>\n",
       "    </tr>\n",
       "    <tr>\n",
       "      <th>SWE vs. POL - EUROPE ZONE A PRELIMINARY QF</th>\n",
       "      <td>2</td>\n",
       "    </tr>\n",
       "    <tr>\n",
       "      <th>SWE vs. ESP - EUROPE ZONE B QF</th>\n",
       "      <td>2</td>\n",
       "    </tr>\n",
       "    <tr>\n",
       "      <th>SWE vs. NZL - EUROPE ZONE B 1R</th>\n",
       "      <td>2</td>\n",
       "    </tr>\n",
       "    <tr>\n",
       "      <th>SWE vs. HUN - EUROPE ZONE B FINAL</th>\n",
       "      <td>1</td>\n",
       "    </tr>\n",
       "    <tr>\n",
       "      <th>SWE vs. ESP - EUROPE ZONE A 1R</th>\n",
       "      <td>1</td>\n",
       "    </tr>\n",
       "  </tbody>\n",
       "</table>\n",
       "<p>89 rows × 1 columns</p>\n",
       "</div>"
      ],
      "text/plain": [
       "                                            Tournament\n",
       "Bastad                                      3082      \n",
       "Stockholm                                   2828      \n",
       "Sweden F2                                   1244      \n",
       "Sweden F1                                   1178      \n",
       "Sweden F3                                   655       \n",
       "...                                         ...       \n",
       "SWE vs. POL - EUROPE ZONE A PRELIMINARY QF  2         \n",
       "SWE vs. ESP - EUROPE ZONE B QF              2         \n",
       "SWE vs. NZL - EUROPE ZONE B 1R              2         \n",
       "SWE vs. HUN - EUROPE ZONE B FINAL           1         \n",
       "SWE vs. ESP - EUROPE ZONE A 1R              1         \n",
       "\n",
       "[89 rows x 1 columns]"
      ]
     },
     "execution_count": 26,
     "metadata": {},
     "output_type": "execute_result"
    }
   ],
   "source": [
    "# Valores distintos na variável 'Tournament'\n",
    "pd.DataFrame(atp_suecia['Tournament'].value_counts(), columns=['Tournament'])"
   ]
  },
  {
   "cell_type": "markdown",
   "id": "7b34db96",
   "metadata": {},
   "source": [
    "> Várias designações distintas $\\rightarrow$ Agrupamos por nomes genéricos de torneios "
   ]
  },
  {
   "cell_type": "code",
   "execution_count": 27,
   "id": "1cca044b",
   "metadata": {},
   "outputs": [],
   "source": [
    "# Jogos referentes aos Torneiros \"Davis Cup\" \n",
    "atp_suecia.loc[atp_suecia['Tournament'].str.contains(\"SWE vs.\", na=False), 'Tournament'] = \"Davis Cup\"\n",
    "atp_suecia.loc[atp_suecia['Tournament'].str.contains(\"SWE V\", na=False), 'Tournament'] = \"Davis Cup\"\n",
    "atp_suecia.loc[atp_suecia['Tournament'].str.contains(\"SWE F\", na=False), 'Tournament'] = \"Davis Cup\"\n",
    "atp_suecia.loc[atp_suecia['Tournament'].str.contains(\"SWE SF\", na=False), 'Tournament'] = \"Davis Cup\"\n",
    "atp_suecia.loc[atp_suecia['Tournament'].str.contains(\"SWE v.\", na=False), 'Tournament'] = \"Davis Cup\"\n",
    "atp_suecia.loc[atp_suecia['Tournament'].str.contains(\"V SWE\", na=False), 'Tournament'] = \"Davis Cup\"\n",
    "atp_suecia.loc[atp_suecia['Tournament'].str.contains(\"v SWE\", na=False), 'Tournament'] = \"Davis Cup\"\n",
    "atp_suecia.loc[atp_suecia['Tournament'].str.contains(\"vs. SWE\", na=False), 'Tournament'] = \"Davis Cup\"\n",
    "\n",
    "# Jogos referentes aos Torneiros \"M15\" \n",
    "atp_suecia.loc[atp_suecia['Tournament'].str.contains(\"M15\", na=False), 'Tournament'] = \"M15\"\n",
    "\n",
    "# Jogos referentes aos Torneiros \"M25\" \n",
    "atp_suecia.loc[atp_suecia['Tournament'].str.contains(\"M25\", na=False), 'Tournament'] = \"M25\"\n",
    "\n",
    "# Jogos referentes aos Torneiros \"Stockholm\" \n",
    "atp_suecia.loc[atp_suecia['Tournament'].str.contains(\"ATP Masters 1000 Stockholm\", na=False), 'Tournament'] = \"Stockholm\"\n",
    "atp_suecia.loc[atp_suecia['Tournament'].str.contains(\"Stockholm-2\", na=False), 'Tournament'] = \"Stockholm\"\n",
    "\n",
    "# Jogos referentes aos Torneiros \"WCT\" \n",
    "atp_suecia.loc[atp_suecia['Tournament'].str.contains(\"WCT\", na=False), 'Tournament'] = \"WCT\""
   ]
  },
  {
   "cell_type": "code",
   "execution_count": 28,
   "id": "c9b2862e",
   "metadata": {
    "scrolled": false
   },
   "outputs": [
    {
     "data": {
      "text/html": [
       "<div>\n",
       "<style scoped>\n",
       "    .dataframe tbody tr th:only-of-type {\n",
       "        vertical-align: middle;\n",
       "    }\n",
       "\n",
       "    .dataframe tbody tr th {\n",
       "        vertical-align: top;\n",
       "    }\n",
       "\n",
       "    .dataframe thead th {\n",
       "        text-align: right;\n",
       "    }\n",
       "</style>\n",
       "<table border=\"1\" class=\"dataframe\">\n",
       "  <thead>\n",
       "    <tr style=\"text-align: right;\">\n",
       "      <th></th>\n",
       "      <th>Tournament</th>\n",
       "    </tr>\n",
       "  </thead>\n",
       "  <tbody>\n",
       "    <tr>\n",
       "      <th>Stockholm</th>\n",
       "      <td>3407</td>\n",
       "    </tr>\n",
       "    <tr>\n",
       "      <th>Bastad</th>\n",
       "      <td>3082</td>\n",
       "    </tr>\n",
       "    <tr>\n",
       "      <th>Sweden F2</th>\n",
       "      <td>1244</td>\n",
       "    </tr>\n",
       "    <tr>\n",
       "      <th>Sweden F1</th>\n",
       "      <td>1178</td>\n",
       "    </tr>\n",
       "    <tr>\n",
       "      <th>Sweden F3</th>\n",
       "      <td>655</td>\n",
       "    </tr>\n",
       "    <tr>\n",
       "      <th>Sweden F4</th>\n",
       "      <td>590</td>\n",
       "    </tr>\n",
       "    <tr>\n",
       "      <th>Sweden F5</th>\n",
       "      <td>534</td>\n",
       "    </tr>\n",
       "    <tr>\n",
       "      <th>Davis Cup</th>\n",
       "      <td>430</td>\n",
       "    </tr>\n",
       "    <tr>\n",
       "      <th>Sweden F6</th>\n",
       "      <td>298</td>\n",
       "    </tr>\n",
       "    <tr>\n",
       "      <th>M25</th>\n",
       "      <td>246</td>\n",
       "    </tr>\n",
       "    <tr>\n",
       "      <th>M15</th>\n",
       "      <td>174</td>\n",
       "    </tr>\n",
       "    <tr>\n",
       "      <th>Sweden F7</th>\n",
       "      <td>174</td>\n",
       "    </tr>\n",
       "    <tr>\n",
       "      <th>Jonkoping</th>\n",
       "      <td>110</td>\n",
       "    </tr>\n",
       "    <tr>\n",
       "      <th>Bromma</th>\n",
       "      <td>62</td>\n",
       "    </tr>\n",
       "    <tr>\n",
       "      <th>Gothenburg</th>\n",
       "      <td>62</td>\n",
       "    </tr>\n",
       "    <tr>\n",
       "      <th>WCT</th>\n",
       "      <td>19</td>\n",
       "    </tr>\n",
       "    <tr>\n",
       "      <th>Masters</th>\n",
       "      <td>12</td>\n",
       "    </tr>\n",
       "  </tbody>\n",
       "</table>\n",
       "</div>"
      ],
      "text/plain": [
       "            Tournament\n",
       "Stockholm   3407      \n",
       "Bastad      3082      \n",
       "Sweden F2   1244      \n",
       "Sweden F1   1178      \n",
       "Sweden F3   655       \n",
       "Sweden F4   590       \n",
       "Sweden F5   534       \n",
       "Davis Cup   430       \n",
       "Sweden F6   298       \n",
       "M25         246       \n",
       "M15         174       \n",
       "Sweden F7   174       \n",
       "Jonkoping   110       \n",
       "Bromma      62        \n",
       "Gothenburg  62        \n",
       "WCT         19        \n",
       "Masters     12        "
      ]
     },
     "execution_count": 28,
     "metadata": {},
     "output_type": "execute_result"
    }
   ],
   "source": [
    "# Verificação das designações distintas obtidas\n",
    "pd.DataFrame(atp_suecia['Tournament'].value_counts(), columns=['Tournament'])"
   ]
  },
  {
   "cell_type": "code",
   "execution_count": 29,
   "id": "34e62e06",
   "metadata": {},
   "outputs": [
    {
     "name": "stdout",
     "output_type": "stream",
     "text": [
      "Nº de Torneios \"Davis Cup\": 430 ( 3.5 %)\n"
     ]
    }
   ],
   "source": [
    "# Contar os torneios \"Davis Cup\"\n",
    "print('Nº de Torneios \"Davis Cup\":',atp_suecia['Tournament'].str.contains(\"Davis Cup\").sum(), '(', round(atp_suecia['Tournament'].str.contains(\"Davis Cup\").sum()/len(atp_suecia['Tournament']) * 100, 2) ,'%)' )"
   ]
  },
  {
   "cell_type": "code",
   "execution_count": 30,
   "id": "c132a551",
   "metadata": {},
   "outputs": [],
   "source": [
    "# Eliminar os torneios \"Davis Cup\"\n",
    "atp_suecia = atp_suecia[~atp_suecia['Tournament'].str.contains(\"Davis Cup\")]"
   ]
  },
  {
   "cell_type": "markdown",
   "id": "1d38a89d",
   "metadata": {},
   "source": [
    "---"
   ]
  },
  {
   "cell_type": "markdown",
   "id": "26887aba",
   "metadata": {},
   "source": [
    "# <a class='anchor' id='23'></a>\n",
    "\n",
    "<div style=\"border: 3px #0371B1; border-style: solid;  \n",
    "            border-radius: 300px; padding: 20px;\">\n",
    "    <center><h1 style=\"margin-top: 2px;color: #0371B1; font-size: 20px;\n",
    "                       font-family: 'Avenir Next LT Pro', sans-serif;\"> 2.3 | Variável Date</h1></center>\n",
    "</div>"
   ]
  },
  {
   "cell_type": "code",
   "execution_count": 31,
   "id": "72e4047d",
   "metadata": {},
   "outputs": [
    {
     "data": {
      "text/plain": [
       "0"
      ]
     },
     "execution_count": 31,
     "metadata": {},
     "output_type": "execute_result"
    }
   ],
   "source": [
    "# Contar os valores omissos na variável 'Date'\n",
    "atp_suecia['Date'].isnull().sum()"
   ]
  },
  {
   "cell_type": "code",
   "execution_count": 32,
   "id": "803533ba",
   "metadata": {},
   "outputs": [
    {
     "data": {
      "text/plain": [
       "array([23, 10], dtype=int64)"
      ]
     },
     "execution_count": 32,
     "metadata": {},
     "output_type": "execute_result"
    }
   ],
   "source": [
    "# Usamos o método str.len() para obter o comprimento de cada valor na coluna 'Date' \n",
    "# e, em seguida, o método unique() para obter os valores únicos\n",
    "atp_suecia['Date'].str.len().unique()"
   ]
  },
  {
   "cell_type": "code",
   "execution_count": 33,
   "id": "50f9ef7b",
   "metadata": {},
   "outputs": [],
   "source": [
    "# Formato 'aaaa.mm.dd' & 'aaaa.mm.dd - aaaa.mm.dd'\n",
    "\n",
    "# Transformar a coluna Date em 'Tournament_Start_Date' e 'Tournament_End_Date'\n",
    "atp_suecia[['Tournament_Start_Date', 'Tournament_End_Date']] = atp_suecia['Date'].str.split('-', expand=True)\n",
    "atp_suecia['Tournament_Start_Date'] = atp_suecia['Tournament_Start_Date'].str.strip()\n",
    "atp_suecia['Tournament_End_Date'] = atp_suecia['Tournament_End_Date'].str.strip()\n",
    "\n",
    "# Nos casos em que Tournament_Start_Date e Tournament_End_Date são os mesmos\n",
    "atp_suecia['Tournament_End_Date'].fillna(atp_suecia['Tournament_Start_Date'], inplace=True)"
   ]
  },
  {
   "cell_type": "code",
   "execution_count": 34,
   "id": "97bac2af",
   "metadata": {},
   "outputs": [
    {
     "name": "stdout",
     "output_type": "stream",
     "text": [
      "Nº de Caracteres do Tournament_Start_Date: [10]\n",
      "Nº de Caracteres do Tournament_End_Date: [10]\n",
      "Formato: aaaa.mm.dd\n"
     ]
    }
   ],
   "source": [
    "# Verificar que ambas as datas têm 10 caracteres (o correspondete ao formato aaaa.mm.dd) \n",
    "print('Nº de Caracteres do Tournament_Start_Date:',atp_suecia['Tournament_Start_Date'].str.len().unique())\n",
    "print('Nº de Caracteres do Tournament_End_Date:',atp_suecia['Tournament_End_Date'].str.len().unique())\n",
    "print('Formato: aaaa.mm.dd')"
   ]
  },
  {
   "cell_type": "code",
   "execution_count": 35,
   "id": "2c5a55e4",
   "metadata": {},
   "outputs": [],
   "source": [
    "# Transforma as colunas 'Tournament_Start_Date' e 'Tournament_End_Date' em formato de data\n",
    "atp_suecia['Tournament_Start_Date'] = pd.to_datetime(atp_suecia['Tournament_Start_Date'], format='%Y.%m.%d')\n",
    "atp_suecia['Tournament_End_Date'] = pd.to_datetime(atp_suecia['Tournament_End_Date'], format='%Y.%m.%d')"
   ]
  },
  {
   "cell_type": "code",
   "execution_count": 36,
   "id": "541e84ea",
   "metadata": {},
   "outputs": [
    {
     "data": {
      "text/html": [
       "<div>\n",
       "<style scoped>\n",
       "    .dataframe tbody tr th:only-of-type {\n",
       "        vertical-align: middle;\n",
       "    }\n",
       "\n",
       "    .dataframe tbody tr th {\n",
       "        vertical-align: top;\n",
       "    }\n",
       "\n",
       "    .dataframe thead th {\n",
       "        text-align: right;\n",
       "    }\n",
       "</style>\n",
       "<table border=\"1\" class=\"dataframe\">\n",
       "  <thead>\n",
       "    <tr style=\"text-align: right;\">\n",
       "      <th></th>\n",
       "      <th>Date</th>\n",
       "      <th>Tournament_Start_Date</th>\n",
       "      <th>Tournament_End_Date</th>\n",
       "    </tr>\n",
       "  </thead>\n",
       "  <tbody>\n",
       "    <tr>\n",
       "      <th>8737</th>\n",
       "      <td>1998.09.21 - 1998.09.27</td>\n",
       "      <td>1998-09-21</td>\n",
       "      <td>1998-09-27</td>\n",
       "    </tr>\n",
       "    <tr>\n",
       "      <th>3021</th>\n",
       "      <td>2017.09.25 - 2017.10.01</td>\n",
       "      <td>2017-09-25</td>\n",
       "      <td>2017-10-01</td>\n",
       "    </tr>\n",
       "    <tr>\n",
       "      <th>8329</th>\n",
       "      <td>2002.09.16 - 2002.09.22</td>\n",
       "      <td>2002-09-16</td>\n",
       "      <td>2002-09-22</td>\n",
       "    </tr>\n",
       "    <tr>\n",
       "      <th>8303</th>\n",
       "      <td>2000.09.18 - 2000.09.24</td>\n",
       "      <td>2000-09-18</td>\n",
       "      <td>2000-09-24</td>\n",
       "    </tr>\n",
       "    <tr>\n",
       "      <th>11912</th>\n",
       "      <td>2015.10.19 - 2015.10.25</td>\n",
       "      <td>2015-10-19</td>\n",
       "      <td>2015-10-25</td>\n",
       "    </tr>\n",
       "  </tbody>\n",
       "</table>\n",
       "</div>"
      ],
      "text/plain": [
       "                          Date Tournament_Start_Date Tournament_End_Date\n",
       "8737   1998.09.21 - 1998.09.27 1998-09-21            1998-09-27         \n",
       "3021   2017.09.25 - 2017.10.01 2017-09-25            2017-10-01         \n",
       "8329   2002.09.16 - 2002.09.22 2002-09-16            2002-09-22         \n",
       "8303   2000.09.18 - 2000.09.24 2000-09-18            2000-09-24         \n",
       "11912  2015.10.19 - 2015.10.25 2015-10-19            2015-10-25         "
      ]
     },
     "execution_count": 36,
     "metadata": {},
     "output_type": "execute_result"
    }
   ],
   "source": [
    "# Verificar a limpeza\n",
    "atp_suecia[['Date', 'Tournament_Start_Date','Tournament_End_Date']].sample(5)"
   ]
  },
  {
   "cell_type": "code",
   "execution_count": 37,
   "id": "ebb8fe1b",
   "metadata": {},
   "outputs": [
    {
     "data": {
      "text/plain": [
       "Date                     object        \n",
       "Tournament_Start_Date    datetime64[ns]\n",
       "Tournament_End_Date      datetime64[ns]\n",
       "dtype: object"
      ]
     },
     "execution_count": 37,
     "metadata": {},
     "output_type": "execute_result"
    }
   ],
   "source": [
    "# Confirmar a alteração do tipo de dados para 'datetime'\n",
    "atp_suecia[['Date', 'Tournament_Start_Date','Tournament_End_Date']].dtypes"
   ]
  },
  {
   "cell_type": "code",
   "execution_count": 38,
   "id": "02c3c72a",
   "metadata": {},
   "outputs": [],
   "source": [
    "# Remover a coluna Tournament_Date\n",
    "atp_suecia.drop('Date', axis=1, inplace=True)"
   ]
  },
  {
   "cell_type": "code",
   "execution_count": 39,
   "id": "9a1bf641",
   "metadata": {},
   "outputs": [
    {
     "name": "stdout",
     "output_type": "stream",
     "text": [
      "Os jogos em estudo estão compreendidos no intervalo temporal [ 1969-07-07 ; 2021-11-13 ]\n"
     ]
    }
   ],
   "source": [
    "# Verificar o intervalo de Anos que estamos a trabalhar\n",
    "start_date_min = atp_suecia['Tournament_Start_Date'].min().strftime('%Y-%m-%d')\n",
    "end_date_max = atp_suecia['Tournament_End_Date'].max().strftime('%Y-%m-%d')\n",
    "\n",
    "print(\"Os jogos em estudo estão compreendidos no intervalo temporal [\", start_date_min, \";\", end_date_max, \"]\")"
   ]
  },
  {
   "cell_type": "markdown",
   "id": "d43961cb",
   "metadata": {},
   "source": [
    "# <a class='anchor' id='24'></a>\n",
    "\n",
    "<div style=\"border: 3px #0371B1; border-style: solid;  \n",
    "            border-radius: 300px; padding: 20px;\">\n",
    "    <center><h1 style=\"margin-top: 2px;color: #0371B1; font-size: 20px;\n",
    "                       font-family: 'Avenir Next LT Pro', sans-serif;\"> 2.4 | Variável Ground</h1></center>\n",
    "</div>"
   ]
  },
  {
   "cell_type": "code",
   "execution_count": 40,
   "id": "71b91af1",
   "metadata": {},
   "outputs": [
    {
     "name": "stdout",
     "output_type": "stream",
     "text": [
      "Nº de Valores Omissos: 0 ( 0.0 %)\n"
     ]
    }
   ],
   "source": [
    "# Contar os valores omissos na variável 'Ground'\n",
    "print('Nº de Valores Omissos:',atp_suecia['Ground'].isna().sum(), '(', round(atp_suecia['Ground'].isna().sum()/len(atp_suecia['Ground']) * 100, 2) ,'%)' )"
   ]
  },
  {
   "cell_type": "code",
   "execution_count": 41,
   "id": "a1a8a84c",
   "metadata": {},
   "outputs": [
    {
     "data": {
      "text/html": [
       "<div>\n",
       "<style scoped>\n",
       "    .dataframe tbody tr th:only-of-type {\n",
       "        vertical-align: middle;\n",
       "    }\n",
       "\n",
       "    .dataframe tbody tr th {\n",
       "        vertical-align: top;\n",
       "    }\n",
       "\n",
       "    .dataframe thead th {\n",
       "        text-align: right;\n",
       "    }\n",
       "</style>\n",
       "<table border=\"1\" class=\"dataframe\">\n",
       "  <thead>\n",
       "    <tr style=\"text-align: right;\">\n",
       "      <th></th>\n",
       "      <th>Ground</th>\n",
       "    </tr>\n",
       "  </thead>\n",
       "  <tbody>\n",
       "    <tr>\n",
       "      <th>Hard</th>\n",
       "      <td>6425</td>\n",
       "    </tr>\n",
       "    <tr>\n",
       "      <th>Clay</th>\n",
       "      <td>4599</td>\n",
       "    </tr>\n",
       "    <tr>\n",
       "      <th>Carpet</th>\n",
       "      <td>823</td>\n",
       "    </tr>\n",
       "  </tbody>\n",
       "</table>\n",
       "</div>"
      ],
      "text/plain": [
       "        Ground\n",
       "Hard    6425  \n",
       "Clay    4599  \n",
       "Carpet  823   "
      ]
     },
     "execution_count": 41,
     "metadata": {},
     "output_type": "execute_result"
    }
   ],
   "source": [
    "# Valores distintos na variável 'Ground'\n",
    "pd.DataFrame(atp_suecia['Ground'].value_counts(dropna = False))"
   ]
  },
  {
   "cell_type": "markdown",
   "id": "4174911f",
   "metadata": {},
   "source": [
    "> Não existem torneiros jogados em terrenos do tipo `Grass` (relva natural)."
   ]
  },
  {
   "cell_type": "markdown",
   "id": "bdcd1092",
   "metadata": {},
   "source": [
    "# <a class='anchor' id='25'></a>\n",
    "\n",
    "<div style=\"border: 3px #0371B1; border-style: solid;  \n",
    "            border-radius: 300px; padding: 20px;\">\n",
    "    <center><h1 style=\"margin-top: 2px;color: #0371B1; font-size: 20px;\n",
    "                       font-family: 'Avenir Next LT Pro', sans-serif;\"> 2.5 | Variável Prize</h1></center>\n",
    "</div>"
   ]
  },
  {
   "cell_type": "code",
   "execution_count": 42,
   "id": "9e09da6e",
   "metadata": {},
   "outputs": [
    {
     "name": "stdout",
     "output_type": "stream",
     "text": [
      "Nº de Valores Omissos: 4 ( 0.034 %)\n"
     ]
    }
   ],
   "source": [
    "# Contar os valores omissos na variável 'Prize'\n",
    "print('Nº de Valores Omissos:',atp_suecia['Prize'].isna().sum(), '(', round(atp_suecia['Prize'].isna().sum()/len(atp_suecia['Prize']) * 100, 3) ,'%)' )"
   ]
  },
  {
   "cell_type": "code",
   "execution_count": 43,
   "id": "4a344553",
   "metadata": {},
   "outputs": [
    {
     "data": {
      "text/html": [
       "<div>\n",
       "<style scoped>\n",
       "    .dataframe tbody tr th:only-of-type {\n",
       "        vertical-align: middle;\n",
       "    }\n",
       "\n",
       "    .dataframe tbody tr th {\n",
       "        vertical-align: top;\n",
       "    }\n",
       "\n",
       "    .dataframe thead th {\n",
       "        text-align: right;\n",
       "    }\n",
       "</style>\n",
       "<table border=\"1\" class=\"dataframe\">\n",
       "  <thead>\n",
       "    <tr style=\"text-align: right;\">\n",
       "      <th></th>\n",
       "      <th>PlayerName</th>\n",
       "      <th>Born</th>\n",
       "      <th>Height</th>\n",
       "      <th>Hand</th>\n",
       "      <th>LinkPlayer</th>\n",
       "      <th>Tournament</th>\n",
       "      <th>Ground</th>\n",
       "      <th>Prize</th>\n",
       "      <th>GameRound</th>\n",
       "      <th>GameRank</th>\n",
       "      <th>Oponent</th>\n",
       "      <th>WL</th>\n",
       "      <th>Score</th>\n",
       "      <th>Tournament_Start_Date</th>\n",
       "      <th>Tournament_End_Date</th>\n",
       "    </tr>\n",
       "  </thead>\n",
       "  <tbody>\n",
       "    <tr>\n",
       "      <th>11579</th>\n",
       "      <td>Jan Kodes</td>\n",
       "      <td>Prague, Czech Republic</td>\n",
       "      <td>175.0</td>\n",
       "      <td>Right-Handed, Unknown Backhand</td>\n",
       "      <td>https://www.atptour.com/en/players/jan-kodes/k049/player-activity?year=all&amp;matchType=Singles</td>\n",
       "      <td>Bastad</td>\n",
       "      <td>Clay</td>\n",
       "      <td>NaN</td>\n",
       "      <td>Semi-Finals</td>\n",
       "      <td>-</td>\n",
       "      <td>Manuel Santana</td>\n",
       "      <td>L</td>\n",
       "      <td>46 61 57 64 26</td>\n",
       "      <td>1969-07-07</td>\n",
       "      <td>1969-07-13</td>\n",
       "    </tr>\n",
       "    <tr>\n",
       "      <th>11580</th>\n",
       "      <td>Jan Kodes</td>\n",
       "      <td>Prague, Czech Republic</td>\n",
       "      <td>175.0</td>\n",
       "      <td>Right-Handed, Unknown Backhand</td>\n",
       "      <td>https://www.atptour.com/en/players/jan-kodes/k049/player-activity?year=all&amp;matchType=Singles</td>\n",
       "      <td>Bastad</td>\n",
       "      <td>Clay</td>\n",
       "      <td>NaN</td>\n",
       "      <td>Quarter-Finals</td>\n",
       "      <td>-</td>\n",
       "      <td>Patricio Rodriguez</td>\n",
       "      <td>W</td>\n",
       "      <td>64 62 64</td>\n",
       "      <td>1969-07-07</td>\n",
       "      <td>1969-07-13</td>\n",
       "    </tr>\n",
       "    <tr>\n",
       "      <th>11581</th>\n",
       "      <td>Jan Kodes</td>\n",
       "      <td>Prague, Czech Republic</td>\n",
       "      <td>175.0</td>\n",
       "      <td>Right-Handed, Unknown Backhand</td>\n",
       "      <td>https://www.atptour.com/en/players/jan-kodes/k049/player-activity?year=all&amp;matchType=Singles</td>\n",
       "      <td>Bastad</td>\n",
       "      <td>Clay</td>\n",
       "      <td>NaN</td>\n",
       "      <td>Round of 16</td>\n",
       "      <td>-</td>\n",
       "      <td>William Alvarez</td>\n",
       "      <td>W</td>\n",
       "      <td>36 64 62 63</td>\n",
       "      <td>1969-07-07</td>\n",
       "      <td>1969-07-13</td>\n",
       "    </tr>\n",
       "    <tr>\n",
       "      <th>11582</th>\n",
       "      <td>Jan Kodes</td>\n",
       "      <td>Prague, Czech Republic</td>\n",
       "      <td>175.0</td>\n",
       "      <td>Right-Handed, Unknown Backhand</td>\n",
       "      <td>https://www.atptour.com/en/players/jan-kodes/k049/player-activity?year=all&amp;matchType=Singles</td>\n",
       "      <td>Bastad</td>\n",
       "      <td>Clay</td>\n",
       "      <td>NaN</td>\n",
       "      <td>Round of 32</td>\n",
       "      <td>-</td>\n",
       "      <td>Unknown Unknown</td>\n",
       "      <td>W</td>\n",
       "      <td>(W/O)</td>\n",
       "      <td>1969-07-07</td>\n",
       "      <td>1969-07-13</td>\n",
       "    </tr>\n",
       "  </tbody>\n",
       "</table>\n",
       "</div>"
      ],
      "text/plain": [
       "      PlayerName                    Born  Height  \\\n",
       "11579  Jan Kodes  Prague, Czech Republic  175.0    \n",
       "11580  Jan Kodes  Prague, Czech Republic  175.0    \n",
       "11581  Jan Kodes  Prague, Czech Republic  175.0    \n",
       "11582  Jan Kodes  Prague, Czech Republic  175.0    \n",
       "\n",
       "                                 Hand  \\\n",
       "11579  Right-Handed, Unknown Backhand   \n",
       "11580  Right-Handed, Unknown Backhand   \n",
       "11581  Right-Handed, Unknown Backhand   \n",
       "11582  Right-Handed, Unknown Backhand   \n",
       "\n",
       "                                                                                         LinkPlayer  \\\n",
       "11579  https://www.atptour.com/en/players/jan-kodes/k049/player-activity?year=all&matchType=Singles   \n",
       "11580  https://www.atptour.com/en/players/jan-kodes/k049/player-activity?year=all&matchType=Singles   \n",
       "11581  https://www.atptour.com/en/players/jan-kodes/k049/player-activity?year=all&matchType=Singles   \n",
       "11582  https://www.atptour.com/en/players/jan-kodes/k049/player-activity?year=all&matchType=Singles   \n",
       "\n",
       "      Tournament Ground Prize       GameRound GameRank             Oponent WL  \\\n",
       "11579  Bastad     Clay   NaN   Semi-Finals     -        Manuel Santana      L   \n",
       "11580  Bastad     Clay   NaN   Quarter-Finals  -        Patricio Rodriguez  W   \n",
       "11581  Bastad     Clay   NaN   Round of 16     -        William Alvarez     W   \n",
       "11582  Bastad     Clay   NaN   Round of 32     -        Unknown Unknown     W   \n",
       "\n",
       "                Score Tournament_Start_Date Tournament_End_Date  \n",
       "11579  46 61 57 64 26 1969-07-07            1969-07-13           \n",
       "11580  64 62 64       1969-07-07            1969-07-13           \n",
       "11581  36 64 62 63    1969-07-07            1969-07-13           \n",
       "11582  (W/O)          1969-07-07            1969-07-13           "
      ]
     },
     "execution_count": 43,
     "metadata": {},
     "output_type": "execute_result"
    }
   ],
   "source": [
    "# Verificar os casos sem 'Prize'\n",
    "atp_suecia[atp_suecia['Prize'].isna()]"
   ]
  },
  {
   "cell_type": "markdown",
   "id": "5832029d",
   "metadata": {},
   "source": [
    "> Os **3 casos de valores omissos** não têm prémio no site, por isso optámos por **eliminar**."
   ]
  },
  {
   "cell_type": "code",
   "execution_count": 44,
   "id": "5939ee0a",
   "metadata": {},
   "outputs": [
    {
     "name": "stdout",
     "output_type": "stream",
     "text": [
      "0\n"
     ]
    }
   ],
   "source": [
    "# Eliminar os 3 valores nulos da variável 'Prize'\n",
    "atp_suecia.dropna(subset=['Prize'], inplace = True)\n",
    "print(atp_suecia['Prize'].isna().sum())"
   ]
  },
  {
   "cell_type": "code",
   "execution_count": 45,
   "id": "610ef3a0",
   "metadata": {},
   "outputs": [
    {
     "name": "stdout",
     "output_type": "stream",
     "text": [
      "Nº de Valores distintos: 63\n"
     ]
    },
    {
     "data": {
      "text/html": [
       "<div>\n",
       "<style scoped>\n",
       "    .dataframe tbody tr th:only-of-type {\n",
       "        vertical-align: middle;\n",
       "    }\n",
       "\n",
       "    .dataframe tbody tr th {\n",
       "        vertical-align: top;\n",
       "    }\n",
       "\n",
       "    .dataframe thead th {\n",
       "        text-align: right;\n",
       "    }\n",
       "</style>\n",
       "<table border=\"1\" class=\"dataframe\">\n",
       "  <thead>\n",
       "    <tr style=\"text-align: right;\">\n",
       "      <th></th>\n",
       "      <th>Prize</th>\n",
       "    </tr>\n",
       "  </thead>\n",
       "  <tbody>\n",
       "    <tr>\n",
       "      <th>0</th>\n",
       "      <td>$1,040,000</td>\n",
       "    </tr>\n",
       "    <tr>\n",
       "      <th>1</th>\n",
       "      <td>$1,400,000</td>\n",
       "    </tr>\n",
       "    <tr>\n",
       "      <th>2</th>\n",
       "      <td>$1,470,000</td>\n",
       "    </tr>\n",
       "    <tr>\n",
       "      <th>3</th>\n",
       "      <td>$10,000</td>\n",
       "    </tr>\n",
       "    <tr>\n",
       "      <th>4</th>\n",
       "      <td>$100,000</td>\n",
       "    </tr>\n",
       "    <tr>\n",
       "      <th>...</th>\n",
       "      <td>...</td>\n",
       "    </tr>\n",
       "    <tr>\n",
       "      <th>58</th>\n",
       "      <td>�566,525</td>\n",
       "    </tr>\n",
       "    <tr>\n",
       "      <th>59</th>\n",
       "      <td>�589,185</td>\n",
       "    </tr>\n",
       "    <tr>\n",
       "      <th>60</th>\n",
       "      <td>�612,755</td>\n",
       "    </tr>\n",
       "    <tr>\n",
       "      <th>61</th>\n",
       "      <td>�635,750</td>\n",
       "    </tr>\n",
       "    <tr>\n",
       "      <th>62</th>\n",
       "      <td>�692,000</td>\n",
       "    </tr>\n",
       "  </tbody>\n",
       "</table>\n",
       "<p>63 rows × 1 columns</p>\n",
       "</div>"
      ],
      "text/plain": [
       "         Prize\n",
       "0   $1,040,000\n",
       "1   $1,400,000\n",
       "2   $1,470,000\n",
       "3   $10,000   \n",
       "4   $100,000  \n",
       "..       ...  \n",
       "58  �566,525  \n",
       "59  �589,185  \n",
       "60  �612,755  \n",
       "61  �635,750  \n",
       "62  �692,000  \n",
       "\n",
       "[63 rows x 1 columns]"
      ]
     },
     "execution_count": 45,
     "metadata": {},
     "output_type": "execute_result"
    }
   ],
   "source": [
    "# Verificar os valores distintos da variável 'Prize'\n",
    "print('Nº de Valores distintos:',atp_suecia['Prize'].nunique())\n",
    "pd.DataFrame(atp_suecia['Prize'].sort_values().unique(), columns=['Prize'])"
   ]
  },
  {
   "cell_type": "code",
   "execution_count": 46,
   "id": "6df16b58",
   "metadata": {},
   "outputs": [],
   "source": [
    "# Assosicar o símbolo \"�\" para 'EUR' e '$' para 'USD'\n",
    "atp_suecia['Prize_Coin'] = np.where(pd.isna(atp_suecia['Prize']), np.nan, \n",
    "                                    np.where(atp_suecia['Prize'].str.contains('�'), 'EUR',\n",
    "                                             np.where(atp_suecia['Prize'].str.contains('$'), 'USD', np.nan)))\n",
    "# Eliminar os simbolos da coluna 'Prize'\n",
    "atp_suecia['Prize_Clean'] = atp_suecia['Prize'].str.replace(\"�\", '').str.replace(\"$\", '').str.replace(\",\", \"\")"
   ]
  },
  {
   "cell_type": "code",
   "execution_count": 47,
   "id": "41838205",
   "metadata": {},
   "outputs": [],
   "source": [
    "# Converter para tipo numérico\n",
    "atp_suecia['Prize_Clean'] = pd.to_numeric(atp_suecia['Prize_Clean'])"
   ]
  },
  {
   "cell_type": "markdown",
   "id": "5f9efb2a",
   "metadata": {},
   "source": [
    "### Converter `EUR` para `USD`\n",
    "\n",
    "- https://towardsdatascience.com/how-to-get-free-historical-and-live-stock-prices-and-fx-rates-using-python-part-i-a7718f0a4e4"
   ]
  },
  {
   "cell_type": "code",
   "execution_count": 48,
   "id": "2d2960f2",
   "metadata": {},
   "outputs": [
    {
     "data": {
      "text/plain": [
       "array(['USD', 'EUR'], dtype=object)"
      ]
     },
     "execution_count": 48,
     "metadata": {},
     "output_type": "execute_result"
    }
   ],
   "source": [
    "atp_suecia['Prize_Coin'].unique()"
   ]
  },
  {
   "cell_type": "code",
   "execution_count": 49,
   "id": "7303668c",
   "metadata": {},
   "outputs": [
    {
     "name": "stdout",
     "output_type": "stream",
     "text": [
      "Os torneios com valor do prémio em € está compreendidos entre 2008-07-07 e 2021-11-08 .\n"
     ]
    }
   ],
   "source": [
    "start_date = atp_suecia.query('Prize_Coin == \"EUR\"')['Tournament_Start_Date'].min().strftime('%Y-%m-%d')\n",
    "end_date = atp_suecia.query('Prize_Coin == \"EUR\"')['Tournament_Start_Date'].max().strftime('%Y-%m-%d')\n",
    "\n",
    "print('Os torneios com valor do prémio em € está compreendidos entre', start_date, \"e\", end_date, \".\")"
   ]
  },
  {
   "cell_type": "code",
   "execution_count": 50,
   "id": "723b1b51",
   "metadata": {},
   "outputs": [],
   "source": [
    "# pip install pandas_datareader\n",
    "# pip install yfinance"
   ]
  },
  {
   "cell_type": "code",
   "execution_count": 51,
   "id": "eb95fe9b",
   "metadata": {},
   "outputs": [
    {
     "name": "stdout",
     "output_type": "stream",
     "text": [
      "[*********************100%***********************]  1 of 1 completed\n"
     ]
    },
    {
     "data": {
      "text/html": [
       "<div>\n",
       "<style scoped>\n",
       "    .dataframe tbody tr th:only-of-type {\n",
       "        vertical-align: middle;\n",
       "    }\n",
       "\n",
       "    .dataframe tbody tr th {\n",
       "        vertical-align: top;\n",
       "    }\n",
       "\n",
       "    .dataframe thead th {\n",
       "        text-align: right;\n",
       "    }\n",
       "</style>\n",
       "<table border=\"1\" class=\"dataframe\">\n",
       "  <thead>\n",
       "    <tr style=\"text-align: right;\">\n",
       "      <th></th>\n",
       "      <th>Open</th>\n",
       "      <th>High</th>\n",
       "      <th>Low</th>\n",
       "      <th>Close</th>\n",
       "      <th>Adj Close</th>\n",
       "      <th>Volume</th>\n",
       "    </tr>\n",
       "  </thead>\n",
       "  <tbody>\n",
       "    <tr>\n",
       "      <th>2008-07-07</th>\n",
       "      <td>1.570500</td>\n",
       "      <td>1.574902</td>\n",
       "      <td>1.561597</td>\n",
       "      <td>1.572006</td>\n",
       "      <td>1.572006</td>\n",
       "      <td>0.0</td>\n",
       "    </tr>\n",
       "    <tr>\n",
       "      <th>2008-07-08</th>\n",
       "      <td>1.541806</td>\n",
       "      <td>1.550195</td>\n",
       "      <td>1.531394</td>\n",
       "      <td>1.533390</td>\n",
       "      <td>1.533390</td>\n",
       "      <td>0.0</td>\n",
       "    </tr>\n",
       "  </tbody>\n",
       "</table>\n",
       "</div>"
      ],
      "text/plain": [
       "                Open      High       Low     Close  Adj Close  Volume\n",
       "2008-07-07  1.570500  1.574902  1.561597  1.572006  1.572006   0.0   \n",
       "2008-07-08  1.541806  1.550195  1.531394  1.533390  1.533390   0.0   "
      ]
     },
     "execution_count": 51,
     "metadata": {},
     "output_type": "execute_result"
    }
   ],
   "source": [
    "import pandas as pd\n",
    "from pandas_datareader import data as pdr\n",
    "import yfinance as yf\n",
    "\n",
    "# Guarda o histórico de Taxas de Câmbio do Yahoo Finance de 'EUR' para 'USD'\n",
    "yf.pdr_override()\n",
    "start_date = atp_suecia.query('Prize_Coin == \"EUR\"')['Tournament_Start_Date'].min().strftime('%Y-%m-%d')\n",
    "end_date = atp_suecia.query('Prize_Coin == \"EUR\"')['Tournament_Start_Date'].max().strftime('%Y-%m-%d')\n",
    "fx_rates = pdr.get_data_yahoo(\"EURUSD=X\", start=start_date, end=end_date)\n",
    "\n",
    "# Criar um novo índice com todas as datas entre start_date e end_date - Garantir que não há gaps de dias\n",
    "new_index = pd.date_range(start=start_date, end=end_date, freq='D')\n",
    "\n",
    "# Reindexar o DataFrame fx_rates com o novo índice e preencher os valores faltantes com NaN\n",
    "fx_rates = fx_rates.reindex(new_index)\n",
    "\n",
    "# Guarantir que todos os dias têm taxas de cambio (considerar o valor do dia anterior)\n",
    "fx_rates = fx_rates.ffill()\n",
    "\n",
    "fx_rates.head(2)"
   ]
  },
  {
   "cell_type": "code",
   "execution_count": 52,
   "id": "027166fc",
   "metadata": {},
   "outputs": [],
   "source": [
    "# Função para converter 'EUR' em 'USD' (caso contrário deixa o valor que já estava)\n",
    "def convert_currency(value, date, currency):\n",
    "    if currency == 'EUR':\n",
    "        fx_rate = fx_rates.loc[date][\"Close\"]\n",
    "        return round(value * fx_rate, 0)\n",
    "    else:\n",
    "        return value"
   ]
  },
  {
   "cell_type": "code",
   "execution_count": 53,
   "id": "a4c036b9",
   "metadata": {
    "scrolled": true
   },
   "outputs": [],
   "source": [
    "# Aplica a conversão de moedas usando a função \"convert_currency\" nos Prize_Coin 'EUR'\n",
    "atp_suecia['Prize_USD'] = atp_suecia.apply(lambda row: convert_currency(row['Prize_Clean'], \n",
    "                                                                        row['Tournament_Start_Date'], \n",
    "                                                                        row['Prize_Coin']), axis=1)"
   ]
  },
  {
   "cell_type": "code",
   "execution_count": 54,
   "id": "4979ee08",
   "metadata": {},
   "outputs": [
    {
     "data": {
      "text/html": [
       "<div>\n",
       "<style scoped>\n",
       "    .dataframe tbody tr th:only-of-type {\n",
       "        vertical-align: middle;\n",
       "    }\n",
       "\n",
       "    .dataframe tbody tr th {\n",
       "        vertical-align: top;\n",
       "    }\n",
       "\n",
       "    .dataframe thead th {\n",
       "        text-align: right;\n",
       "    }\n",
       "</style>\n",
       "<table border=\"1\" class=\"dataframe\">\n",
       "  <thead>\n",
       "    <tr style=\"text-align: right;\">\n",
       "      <th></th>\n",
       "      <th>PlayerName</th>\n",
       "      <th>Born</th>\n",
       "      <th>Height</th>\n",
       "      <th>Hand</th>\n",
       "      <th>LinkPlayer</th>\n",
       "      <th>Tournament</th>\n",
       "      <th>Ground</th>\n",
       "      <th>Prize</th>\n",
       "      <th>GameRound</th>\n",
       "      <th>GameRank</th>\n",
       "      <th>Oponent</th>\n",
       "      <th>WL</th>\n",
       "      <th>Score</th>\n",
       "      <th>Tournament_Start_Date</th>\n",
       "      <th>Tournament_End_Date</th>\n",
       "      <th>Prize_Coin</th>\n",
       "      <th>Prize_Clean</th>\n",
       "      <th>Prize_USD</th>\n",
       "    </tr>\n",
       "  </thead>\n",
       "  <tbody>\n",
       "    <tr>\n",
       "      <th>888</th>\n",
       "      <td>Elias Ymer</td>\n",
       "      <td>Skara, Sweden</td>\n",
       "      <td>185.0</td>\n",
       "      <td>Right-Handed, Two-Handed Backhand</td>\n",
       "      <td>https://www.atptour.com/en/players/elias-ymer/y218/player-activity?year=all&amp;matchType=Singles</td>\n",
       "      <td>Bastad</td>\n",
       "      <td>Clay</td>\n",
       "      <td>�482,060</td>\n",
       "      <td>Round of 32</td>\n",
       "      <td>39</td>\n",
       "      <td>Fernando Verdasco</td>\n",
       "      <td>L</td>\n",
       "      <td>64 36 46</td>\n",
       "      <td>2017-07-17</td>\n",
       "      <td>2017-07-23</td>\n",
       "      <td>EUR</td>\n",
       "      <td>482060</td>\n",
       "      <td>553183.0</td>\n",
       "    </tr>\n",
       "    <tr>\n",
       "      <th>106</th>\n",
       "      <td>Pablo Carreno Busta</td>\n",
       "      <td>Gijon, Spain</td>\n",
       "      <td>188.0</td>\n",
       "      <td>Right-Handed, Two-Handed Backhand</td>\n",
       "      <td>https://www.atptour.com/en/players/pablo-carreno-busta/cd85/player-activity?year=all&amp;matchType=Singles</td>\n",
       "      <td>Bastad</td>\n",
       "      <td>Clay</td>\n",
       "      <td>�501,345</td>\n",
       "      <td>Round of 32</td>\n",
       "      <td>NaN</td>\n",
       "      <td>bye</td>\n",
       "      <td>NaN</td>\n",
       "      <td>NaN</td>\n",
       "      <td>2018-07-16</td>\n",
       "      <td>2018-07-22</td>\n",
       "      <td>EUR</td>\n",
       "      <td>501345</td>\n",
       "      <td>585526.0</td>\n",
       "    </tr>\n",
       "    <tr>\n",
       "      <th>11716</th>\n",
       "      <td>Andrea Arnaboldi</td>\n",
       "      <td>Milan, Italy</td>\n",
       "      <td>180.0</td>\n",
       "      <td>Left-Handed, One-Handed Backhand</td>\n",
       "      <td>https://www.atptour.com/en/players/andrea-arnaboldi/a622/player-activity?year=all&amp;matchType=Singles</td>\n",
       "      <td>Bastad</td>\n",
       "      <td>Clay</td>\n",
       "      <td>�439,405</td>\n",
       "      <td>2nd Round Qualifying</td>\n",
       "      <td>1038</td>\n",
       "      <td>Dragos Nicolae Madaras</td>\n",
       "      <td>W</td>\n",
       "      <td>75 62</td>\n",
       "      <td>2015-07-20</td>\n",
       "      <td>2015-07-26</td>\n",
       "      <td>EUR</td>\n",
       "      <td>439405</td>\n",
       "      <td>475886.0</td>\n",
       "    </tr>\n",
       "  </tbody>\n",
       "</table>\n",
       "</div>"
      ],
      "text/plain": [
       "                PlayerName           Born  Height  \\\n",
       "888    Elias Ymer           Skara, Sweden  185.0    \n",
       "106    Pablo Carreno Busta  Gijon, Spain   188.0    \n",
       "11716  Andrea Arnaboldi     Milan, Italy   180.0    \n",
       "\n",
       "                                    Hand  \\\n",
       "888    Right-Handed, Two-Handed Backhand   \n",
       "106    Right-Handed, Two-Handed Backhand   \n",
       "11716  Left-Handed, One-Handed Backhand    \n",
       "\n",
       "                                                                                                   LinkPlayer  \\\n",
       "888    https://www.atptour.com/en/players/elias-ymer/y218/player-activity?year=all&matchType=Singles            \n",
       "106    https://www.atptour.com/en/players/pablo-carreno-busta/cd85/player-activity?year=all&matchType=Singles   \n",
       "11716  https://www.atptour.com/en/players/andrea-arnaboldi/a622/player-activity?year=all&matchType=Singles      \n",
       "\n",
       "      Tournament Ground     Prize             GameRound GameRank  \\\n",
       "888    Bastad     Clay   �482,060  Round of 32           39        \n",
       "106    Bastad     Clay   �501,345  Round of 32           NaN       \n",
       "11716  Bastad     Clay   �439,405  2nd Round Qualifying  1038      \n",
       "\n",
       "                      Oponent   WL     Score Tournament_Start_Date  \\\n",
       "888    Fernando Verdasco       L    64 36 46 2017-07-17              \n",
       "106    bye                     NaN  NaN      2018-07-16              \n",
       "11716  Dragos Nicolae Madaras  W    75 62    2015-07-20              \n",
       "\n",
       "      Tournament_End_Date Prize_Coin  Prize_Clean  Prize_USD  \n",
       "888   2017-07-23           EUR        482060       553183.0   \n",
       "106   2018-07-22           EUR        501345       585526.0   \n",
       "11716 2015-07-26           EUR        439405       475886.0   "
      ]
     },
     "execution_count": 54,
     "metadata": {},
     "output_type": "execute_result"
    }
   ],
   "source": [
    "atp_suecia.sample(3)"
   ]
  },
  {
   "cell_type": "markdown",
   "id": "5a747dd9",
   "metadata": {},
   "source": [
    "### Inflação\n",
    "\n",
    "- Tem em conta o `Índice de Preços do Consumidor`\n",
    "\n",
    "**Fontes:** \n",
    "\n",
    "- https://palewi.re/docs/cpi/#working-with-pandas\n",
    "- https://medium.com/analytics-vidhya/adjusting-for-inflation-when-analysing-historical-data-with-python-9d69a8dcbc27\n",
    "- https://towardsdatascience.com/the-easiest-way-to-adjust-your-data-for-inflation-in-python-365490c03969"
   ]
  },
  {
   "cell_type": "code",
   "execution_count": 55,
   "id": "ee4f249c",
   "metadata": {},
   "outputs": [],
   "source": [
    "# pip install cpi"
   ]
  },
  {
   "cell_type": "code",
   "execution_count": 56,
   "id": "f4fd26c2",
   "metadata": {},
   "outputs": [],
   "source": [
    "import cpi\n",
    "\n",
    "# Ajustar valores pela Inflação - adjusted_value = cpi.inflate(nominal_value, year_for_nominal_value)\n",
    "# ------------------------- real_dollars = (current_dollars * cpi_new) / cpi_old -------------------------\n",
    "atp_suecia['Prize_USD_inflation_adjusted'] = atp_suecia.apply(lambda row: round(cpi.inflate(row['Prize_USD'],\n",
    "                                                                                            row['Tournament_Start_Date'].year),0), axis=1)"
   ]
  },
  {
   "cell_type": "code",
   "execution_count": 57,
   "id": "db736ee7",
   "metadata": {},
   "outputs": [
    {
     "data": {
      "text/html": [
       "<div>\n",
       "<style scoped>\n",
       "    .dataframe tbody tr th:only-of-type {\n",
       "        vertical-align: middle;\n",
       "    }\n",
       "\n",
       "    .dataframe tbody tr th {\n",
       "        vertical-align: top;\n",
       "    }\n",
       "\n",
       "    .dataframe thead th {\n",
       "        text-align: right;\n",
       "    }\n",
       "</style>\n",
       "<table border=\"1\" class=\"dataframe\">\n",
       "  <thead>\n",
       "    <tr style=\"text-align: right;\">\n",
       "      <th></th>\n",
       "      <th>PlayerName</th>\n",
       "      <th>Born</th>\n",
       "      <th>Height</th>\n",
       "      <th>Hand</th>\n",
       "      <th>LinkPlayer</th>\n",
       "      <th>Tournament</th>\n",
       "      <th>Ground</th>\n",
       "      <th>Prize</th>\n",
       "      <th>GameRound</th>\n",
       "      <th>GameRank</th>\n",
       "      <th>Oponent</th>\n",
       "      <th>WL</th>\n",
       "      <th>Score</th>\n",
       "      <th>Tournament_Start_Date</th>\n",
       "      <th>Tournament_End_Date</th>\n",
       "      <th>Prize_Coin</th>\n",
       "      <th>Prize_Clean</th>\n",
       "      <th>Prize_USD</th>\n",
       "      <th>Prize_USD_inflation_adjusted</th>\n",
       "    </tr>\n",
       "  </thead>\n",
       "  <tbody>\n",
       "    <tr>\n",
       "      <th>6178</th>\n",
       "      <td>Johan Backstrom</td>\n",
       "      <td>NaN</td>\n",
       "      <td>NaN</td>\n",
       "      <td>Right-Handed, Two-Handed Backhand</td>\n",
       "      <td>https://www.atptour.com/en/players/johan-backstrom/bj56/player-activity?year=all&amp;matchType=Singles</td>\n",
       "      <td>Bastad</td>\n",
       "      <td>Clay</td>\n",
       "      <td>�433,770</td>\n",
       "      <td>1st Round Qualifying</td>\n",
       "      <td>1480</td>\n",
       "      <td>Daniel Windahl</td>\n",
       "      <td>L</td>\n",
       "      <td>06 26</td>\n",
       "      <td>2013-07-08</td>\n",
       "      <td>2013-07-14</td>\n",
       "      <td>EUR</td>\n",
       "      <td>433770</td>\n",
       "      <td>556486.0</td>\n",
       "      <td>699092.0</td>\n",
       "    </tr>\n",
       "    <tr>\n",
       "      <th>556</th>\n",
       "      <td>Mikael Ymer</td>\n",
       "      <td>Skovde, Sweden</td>\n",
       "      <td>183.0</td>\n",
       "      <td>Right-Handed, Two-Handed Backhand</td>\n",
       "      <td>https://www.atptour.com/en/players/mikael-ymer/y268/player-activity?year=all&amp;matchType=Singles</td>\n",
       "      <td>Sweden F4</td>\n",
       "      <td>Hard</td>\n",
       "      <td>$15,000</td>\n",
       "      <td>Round of 32</td>\n",
       "      <td>390</td>\n",
       "      <td>Maxim Dubarenco</td>\n",
       "      <td>W</td>\n",
       "      <td>63 75</td>\n",
       "      <td>2014-09-15</td>\n",
       "      <td>2014-09-21</td>\n",
       "      <td>USD</td>\n",
       "      <td>15000</td>\n",
       "      <td>15000.0</td>\n",
       "      <td>18543.0</td>\n",
       "    </tr>\n",
       "  </tbody>\n",
       "</table>\n",
       "</div>"
      ],
      "text/plain": [
       "           PlayerName            Born  Height  \\\n",
       "6178  Johan Backstrom  NaN            NaN       \n",
       "556   Mikael Ymer      Skovde, Sweden  183.0    \n",
       "\n",
       "                                   Hand  \\\n",
       "6178  Right-Handed, Two-Handed Backhand   \n",
       "556   Right-Handed, Two-Handed Backhand   \n",
       "\n",
       "                                                                                              LinkPlayer  \\\n",
       "6178  https://www.atptour.com/en/players/johan-backstrom/bj56/player-activity?year=all&matchType=Singles   \n",
       "556   https://www.atptour.com/en/players/mikael-ymer/y268/player-activity?year=all&matchType=Singles       \n",
       "\n",
       "     Tournament Ground     Prize             GameRound GameRank  \\\n",
       "6178  Bastad     Clay   �433,770  1st Round Qualifying  1480      \n",
       "556   Sweden F4  Hard   $15,000   Round of 32           390       \n",
       "\n",
       "              Oponent WL  Score Tournament_Start_Date Tournament_End_Date  \\\n",
       "6178  Daniel Windahl   L  06 26 2013-07-08            2013-07-14            \n",
       "556   Maxim Dubarenco  W  63 75 2014-09-15            2014-09-21            \n",
       "\n",
       "     Prize_Coin  Prize_Clean  Prize_USD  Prize_USD_inflation_adjusted  \n",
       "6178  EUR        433770       556486.0   699092.0                      \n",
       "556   USD        15000        15000.0    18543.0                       "
      ]
     },
     "execution_count": 57,
     "metadata": {},
     "output_type": "execute_result"
    }
   ],
   "source": [
    "# Visualizão dos resultados\n",
    "atp_suecia.sample(2)"
   ]
  },
  {
   "cell_type": "code",
   "execution_count": 58,
   "id": "9a3dae8b",
   "metadata": {},
   "outputs": [],
   "source": [
    "# Eliminar as colunas auxiliares desnecessárias\n",
    "atp_suecia.drop(['Prize','Prize_Coin','Prize_Clean','Prize_USD'], axis= 1, inplace= True)\n",
    "atp_suecia = atp_suecia.rename({'Prize_USD_inflation_adjusted':'Prize'},axis=1)"
   ]
  },
  {
   "cell_type": "code",
   "execution_count": 59,
   "id": "5770d0c0",
   "metadata": {},
   "outputs": [
    {
     "name": "stdout",
     "output_type": "stream",
     "text": [
      "<class 'pandas.core.series.Series'>\n",
      "Int64Index: 11843 entries, 0 to 12275\n",
      "Series name: Prize\n",
      "Non-Null Count  Dtype\n",
      "--------------  -----\n",
      "11843 non-null  Int64\n",
      "dtypes: Int64(1)\n",
      "memory usage: 196.6 KB\n"
     ]
    }
   ],
   "source": [
    "# Alterar o tipo de dados da variável 'Prize' para inteiro em vez de string\n",
    "atp_suecia['Prize'] = atp_suecia['Prize'].astype('Int64')\n",
    "atp_suecia['Prize'].info()"
   ]
  },
  {
   "cell_type": "code",
   "execution_count": 60,
   "id": "e37d1755",
   "metadata": {},
   "outputs": [
    {
     "data": {
      "text/html": [
       "<div>\n",
       "<style scoped>\n",
       "    .dataframe tbody tr th:only-of-type {\n",
       "        vertical-align: middle;\n",
       "    }\n",
       "\n",
       "    .dataframe tbody tr th {\n",
       "        vertical-align: top;\n",
       "    }\n",
       "\n",
       "    .dataframe thead th {\n",
       "        text-align: right;\n",
       "    }\n",
       "</style>\n",
       "<table border=\"1\" class=\"dataframe\">\n",
       "  <thead>\n",
       "    <tr style=\"text-align: right;\">\n",
       "      <th></th>\n",
       "      <th>count</th>\n",
       "      <th>mean</th>\n",
       "      <th>std</th>\n",
       "      <th>min</th>\n",
       "      <th>25%</th>\n",
       "      <th>50%</th>\n",
       "      <th>75%</th>\n",
       "      <th>max</th>\n",
       "    </tr>\n",
       "  </thead>\n",
       "  <tbody>\n",
       "    <tr>\n",
       "      <th>Prize</th>\n",
       "      <td>11843.0</td>\n",
       "      <td>503275.735709</td>\n",
       "      <td>606297.495048</td>\n",
       "      <td>12194.0</td>\n",
       "      <td>17566.0</td>\n",
       "      <td>450833.0</td>\n",
       "      <td>771498.0</td>\n",
       "      <td>2902853.0</td>\n",
       "    </tr>\n",
       "  </tbody>\n",
       "</table>\n",
       "</div>"
      ],
      "text/plain": [
       "         count           mean            std      min      25%       50%  \\\n",
       "Prize  11843.0  503275.735709  606297.495048  12194.0  17566.0  450833.0   \n",
       "\n",
       "            75%        max  \n",
       "Prize  771498.0  2902853.0  "
      ]
     },
     "execution_count": 60,
     "metadata": {},
     "output_type": "execute_result"
    }
   ],
   "source": [
    "# Valor máximo e mínimo de prémio ganho\n",
    "pd.DataFrame(atp_suecia['Prize'].describe()).transpose()"
   ]
  },
  {
   "cell_type": "markdown",
   "id": "066623b1",
   "metadata": {},
   "source": [
    "---"
   ]
  },
  {
   "cell_type": "markdown",
   "id": "4dfdd758",
   "metadata": {},
   "source": [
    "# <a class='anchor' id='26'></a>\n",
    "\n",
    "<div style=\"border: 3px #0371B1; border-style: solid;  \n",
    "            border-radius: 300px; padding: 20px;\">\n",
    "    <center><h1 style=\"margin-top: 2px;color: #0371B1; font-size: 20px;\n",
    "                       font-family: 'Avenir Next LT Pro', sans-serif;\"> 2.6 | Variável GameRound</h1></center>\n",
    "</div>"
   ]
  },
  {
   "cell_type": "code",
   "execution_count": 61,
   "id": "62e21664",
   "metadata": {},
   "outputs": [
    {
     "name": "stdout",
     "output_type": "stream",
     "text": [
      "Nº de Valores distintos: 10\n"
     ]
    }
   ],
   "source": [
    "# Verificar os valores distintos da variável 'GameRound'\n",
    "print('Nº de Valores distintos:',atp_suecia['GameRound'].nunique())"
   ]
  },
  {
   "cell_type": "code",
   "execution_count": 62,
   "id": "81252bd3",
   "metadata": {},
   "outputs": [
    {
     "data": {
      "text/html": [
       "<div>\n",
       "<style scoped>\n",
       "    .dataframe tbody tr th:only-of-type {\n",
       "        vertical-align: middle;\n",
       "    }\n",
       "\n",
       "    .dataframe tbody tr th {\n",
       "        vertical-align: top;\n",
       "    }\n",
       "\n",
       "    .dataframe thead th {\n",
       "        text-align: right;\n",
       "    }\n",
       "</style>\n",
       "<table border=\"1\" class=\"dataframe\">\n",
       "  <thead>\n",
       "    <tr style=\"text-align: right;\">\n",
       "      <th></th>\n",
       "      <th>GameRound</th>\n",
       "    </tr>\n",
       "  </thead>\n",
       "  <tbody>\n",
       "    <tr>\n",
       "      <th>Round of 32</th>\n",
       "      <td>4970</td>\n",
       "    </tr>\n",
       "    <tr>\n",
       "      <th>Round of 16</th>\n",
       "      <td>2630</td>\n",
       "    </tr>\n",
       "    <tr>\n",
       "      <th>Quarter-Finals</th>\n",
       "      <td>1330</td>\n",
       "    </tr>\n",
       "    <tr>\n",
       "      <th>1st Round Qualifying</th>\n",
       "      <td>756</td>\n",
       "    </tr>\n",
       "    <tr>\n",
       "      <th>Semi-Finals</th>\n",
       "      <td>670</td>\n",
       "    </tr>\n",
       "    <tr>\n",
       "      <th>Round of 64</th>\n",
       "      <td>575</td>\n",
       "    </tr>\n",
       "    <tr>\n",
       "      <th>2nd Round Qualifying</th>\n",
       "      <td>407</td>\n",
       "    </tr>\n",
       "    <tr>\n",
       "      <th>Finals</th>\n",
       "      <td>339</td>\n",
       "    </tr>\n",
       "    <tr>\n",
       "      <th>3rd Round Qualifying</th>\n",
       "      <td>157</td>\n",
       "    </tr>\n",
       "    <tr>\n",
       "      <th>Round Robin</th>\n",
       "      <td>9</td>\n",
       "    </tr>\n",
       "  </tbody>\n",
       "</table>\n",
       "</div>"
      ],
      "text/plain": [
       "                      GameRound\n",
       "Round of 32           4970     \n",
       "Round of 16           2630     \n",
       "Quarter-Finals        1330     \n",
       "1st Round Qualifying  756      \n",
       "Semi-Finals           670      \n",
       "Round of 64           575      \n",
       "2nd Round Qualifying  407      \n",
       "Finals                339      \n",
       "3rd Round Qualifying  157      \n",
       "Round Robin           9        "
      ]
     },
     "execution_count": 62,
     "metadata": {},
     "output_type": "execute_result"
    }
   ],
   "source": [
    "# Contagem das ocorrencias da variável 'GameRound'\n",
    "pd.DataFrame(atp_suecia['GameRound'].value_counts())"
   ]
  },
  {
   "cell_type": "markdown",
   "id": "8e9ab94d",
   "metadata": {},
   "source": [
    "# <a class='anchor' id='27'></a>\n",
    "\n",
    "<div style=\"border: 3px #0371B1; border-style: solid;  \n",
    "            border-radius: 300px; padding: 20px;\">\n",
    "    <center><h1 style=\"margin-top: 2px;color: #0371B1; font-size: 20px;\n",
    "                       font-family: 'Avenir Next LT Pro', sans-serif;\"> 2.7 | Variável WL</h1></center>\n",
    "</div>"
   ]
  },
  {
   "cell_type": "code",
   "execution_count": 63,
   "id": "174d8e15",
   "metadata": {},
   "outputs": [
    {
     "name": "stdout",
     "output_type": "stream",
     "text": [
      "Nº de Valores distintos: 2\n"
     ]
    },
    {
     "data": {
      "text/plain": [
       "array(['L', 'W', nan], dtype=object)"
      ]
     },
     "execution_count": 63,
     "metadata": {},
     "output_type": "execute_result"
    }
   ],
   "source": [
    "# Verificar os valores distintos da variável 'WL'\n",
    "print('Nº de Valores distintos:',atp_suecia['WL'].nunique())\n",
    "atp_suecia['WL'].unique()"
   ]
  },
  {
   "cell_type": "code",
   "execution_count": 64,
   "id": "8bae367a",
   "metadata": {},
   "outputs": [
    {
     "data": {
      "text/html": [
       "<div>\n",
       "<style scoped>\n",
       "    .dataframe tbody tr th:only-of-type {\n",
       "        vertical-align: middle;\n",
       "    }\n",
       "\n",
       "    .dataframe tbody tr th {\n",
       "        vertical-align: top;\n",
       "    }\n",
       "\n",
       "    .dataframe thead th {\n",
       "        text-align: right;\n",
       "    }\n",
       "</style>\n",
       "<table border=\"1\" class=\"dataframe\">\n",
       "  <thead>\n",
       "    <tr style=\"text-align: right;\">\n",
       "      <th></th>\n",
       "      <th>WL</th>\n",
       "    </tr>\n",
       "  </thead>\n",
       "  <tbody>\n",
       "    <tr>\n",
       "      <th>W</th>\n",
       "      <td>5944</td>\n",
       "    </tr>\n",
       "    <tr>\n",
       "      <th>L</th>\n",
       "      <td>5630</td>\n",
       "    </tr>\n",
       "  </tbody>\n",
       "</table>\n",
       "</div>"
      ],
      "text/plain": [
       "     WL\n",
       "W  5944\n",
       "L  5630"
      ]
     },
     "execution_count": 64,
     "metadata": {},
     "output_type": "execute_result"
    }
   ],
   "source": [
    "# Contagem das ocorrencias da variável 'WL'\n",
    "pd.DataFrame(atp_suecia['WL'].value_counts())"
   ]
  },
  {
   "cell_type": "code",
   "execution_count": 65,
   "id": "82d9ab6b",
   "metadata": {},
   "outputs": [
    {
     "name": "stdout",
     "output_type": "stream",
     "text": [
      "Nº de Valores Omissos (= Jogos sem tomada de decisão): 269 ( 2.27 %)\n"
     ]
    }
   ],
   "source": [
    "# Contagem dos valores nulos\n",
    "print('Nº de Valores Omissos (= Jogos sem tomada de decisão):',atp_suecia['WL'].isna().sum(), '(', round(atp_suecia['WL'].isna().sum()/len(atp_suecia['WL']) * 100, 2) ,'%)' )"
   ]
  },
  {
   "cell_type": "code",
   "execution_count": 66,
   "id": "30e7debf",
   "metadata": {},
   "outputs": [
    {
     "data": {
      "text/html": [
       "<div>\n",
       "<style scoped>\n",
       "    .dataframe tbody tr th:only-of-type {\n",
       "        vertical-align: middle;\n",
       "    }\n",
       "\n",
       "    .dataframe tbody tr th {\n",
       "        vertical-align: top;\n",
       "    }\n",
       "\n",
       "    .dataframe thead th {\n",
       "        text-align: right;\n",
       "    }\n",
       "</style>\n",
       "<table border=\"1\" class=\"dataframe\">\n",
       "  <thead>\n",
       "    <tr style=\"text-align: right;\">\n",
       "      <th></th>\n",
       "      <th>PlayerName</th>\n",
       "      <th>Born</th>\n",
       "      <th>Height</th>\n",
       "      <th>Hand</th>\n",
       "      <th>LinkPlayer</th>\n",
       "      <th>Tournament</th>\n",
       "      <th>Ground</th>\n",
       "      <th>GameRound</th>\n",
       "      <th>GameRank</th>\n",
       "      <th>Oponent</th>\n",
       "      <th>WL</th>\n",
       "      <th>Score</th>\n",
       "      <th>Tournament_Start_Date</th>\n",
       "      <th>Tournament_End_Date</th>\n",
       "      <th>Prize</th>\n",
       "    </tr>\n",
       "  </thead>\n",
       "  <tbody>\n",
       "    <tr>\n",
       "      <th>16</th>\n",
       "      <td>Alexander Zverev</td>\n",
       "      <td>Hamburg, Germany</td>\n",
       "      <td>198.0</td>\n",
       "      <td>Right-Handed, Two-Handed Backhand</td>\n",
       "      <td>https://www.atptour.com/en/players/alexander-zverev/z355/player-activity?year=all&amp;matchType=Singles</td>\n",
       "      <td>Stockholm</td>\n",
       "      <td>Hard</td>\n",
       "      <td>Round of 32</td>\n",
       "      <td>NaN</td>\n",
       "      <td>bye</td>\n",
       "      <td>NaN</td>\n",
       "      <td>NaN</td>\n",
       "      <td>2016-10-17</td>\n",
       "      <td>2016-10-23</td>\n",
       "      <td>757653</td>\n",
       "    </tr>\n",
       "  </tbody>\n",
       "</table>\n",
       "</div>"
      ],
      "text/plain": [
       "          PlayerName              Born  Height  \\\n",
       "16  Alexander Zverev  Hamburg, Germany  198.0    \n",
       "\n",
       "                                 Hand  \\\n",
       "16  Right-Handed, Two-Handed Backhand   \n",
       "\n",
       "                                                                                             LinkPlayer  \\\n",
       "16  https://www.atptour.com/en/players/alexander-zverev/z355/player-activity?year=all&matchType=Singles   \n",
       "\n",
       "   Tournament Ground    GameRound GameRank Oponent   WL Score  \\\n",
       "16  Stockholm  Hard   Round of 32  NaN      bye     NaN  NaN    \n",
       "\n",
       "   Tournament_Start_Date Tournament_End_Date   Prize  \n",
       "16 2016-10-17            2016-10-23           757653  "
      ]
     },
     "execution_count": 66,
     "metadata": {},
     "output_type": "execute_result"
    }
   ],
   "source": [
    "# Verificar que há jogos em que tal ocorre porque Opponent == 'bye'\n",
    "atp_suecia[atp_suecia['Oponent'] == 'bye'].iloc[0:1]"
   ]
  },
  {
   "cell_type": "code",
   "execution_count": 67,
   "id": "9671b224",
   "metadata": {},
   "outputs": [
    {
     "name": "stdout",
     "output_type": "stream",
     "text": [
      "0\n"
     ]
    }
   ],
   "source": [
    "# Eliminar os jogos sem tomada de decisão\n",
    "atp_suecia.dropna(subset=['WL'], inplace = True)\n",
    "print(atp_suecia['WL'].isna().sum())"
   ]
  },
  {
   "cell_type": "markdown",
   "id": "bee91a04",
   "metadata": {},
   "source": [
    "# <a class='anchor' id='28'></a>\n",
    "\n",
    "<div style=\"border: 3px #0371B1; border-style: solid;  \n",
    "            border-radius: 300px; padding: 20px;\">\n",
    "    <center><h1 style=\"margin-top: 2px;color: #0371B1; font-size: 20px;\n",
    "                       font-family: 'Avenir Next LT Pro', sans-serif;\"> 2.8 | Variável Score</h1></center>\n",
    "</div>"
   ]
  },
  {
   "cell_type": "code",
   "execution_count": 68,
   "id": "c2fb3ddf",
   "metadata": {},
   "outputs": [
    {
     "name": "stdout",
     "output_type": "stream",
     "text": [
      "Nº de Valores distintos: 1423\n"
     ]
    },
    {
     "data": {
      "text/plain": [
       "array(['46 67', '64 62', '63 63', ..., '75 (RET)', '16 63 60', '62 16 63'],\n",
       "      dtype=object)"
      ]
     },
     "execution_count": 68,
     "metadata": {},
     "output_type": "execute_result"
    }
   ],
   "source": [
    "# Verificar os valores distintos da variável 'GameRound'\n",
    "print('Nº de Valores distintos:',atp_suecia['Score'].nunique())\n",
    "atp_suecia['Score'].unique()"
   ]
  },
  {
   "cell_type": "code",
   "execution_count": 69,
   "id": "108a9b67",
   "metadata": {},
   "outputs": [
    {
     "data": {
      "text/plain": [
       "0"
      ]
     },
     "execution_count": 69,
     "metadata": {},
     "output_type": "execute_result"
    }
   ],
   "source": [
    "# Verificação que já não existem valores omissos (uma vez que já limpamos os WL nulos)\n",
    "atp_suecia['Score'].isnull().sum()"
   ]
  },
  {
   "cell_type": "code",
   "execution_count": 70,
   "id": "ed5b80b3",
   "metadata": {},
   "outputs": [
    {
     "data": {
      "text/html": [
       "<div>\n",
       "<style scoped>\n",
       "    .dataframe tbody tr th:only-of-type {\n",
       "        vertical-align: middle;\n",
       "    }\n",
       "\n",
       "    .dataframe tbody tr th {\n",
       "        vertical-align: top;\n",
       "    }\n",
       "\n",
       "    .dataframe thead th {\n",
       "        text-align: right;\n",
       "    }\n",
       "</style>\n",
       "<table border=\"1\" class=\"dataframe\">\n",
       "  <thead>\n",
       "    <tr style=\"text-align: right;\">\n",
       "      <th></th>\n",
       "      <th>PlayerName</th>\n",
       "      <th>Born</th>\n",
       "      <th>Height</th>\n",
       "      <th>Hand</th>\n",
       "      <th>LinkPlayer</th>\n",
       "      <th>Tournament</th>\n",
       "      <th>Ground</th>\n",
       "      <th>GameRound</th>\n",
       "      <th>GameRank</th>\n",
       "      <th>Oponent</th>\n",
       "      <th>WL</th>\n",
       "      <th>Score</th>\n",
       "      <th>Tournament_Start_Date</th>\n",
       "      <th>Tournament_End_Date</th>\n",
       "      <th>Prize</th>\n",
       "    </tr>\n",
       "  </thead>\n",
       "  <tbody>\n",
       "  </tbody>\n",
       "</table>\n",
       "</div>"
      ],
      "text/plain": [
       "Empty DataFrame\n",
       "Columns: [PlayerName, Born, Height, Hand, LinkPlayer, Tournament, Ground, GameRound, GameRank, Oponent, WL, Score, Tournament_Start_Date, Tournament_End_Date, Prize]\n",
       "Index: []"
      ]
     },
     "execution_count": 70,
     "metadata": {},
     "output_type": "execute_result"
    }
   ],
   "source": [
    "# Verificar casos que contém '-'\n",
    "atp_suecia[atp_suecia['Score'].str.contains('-')].head(2)"
   ]
  },
  {
   "cell_type": "code",
   "execution_count": 71,
   "id": "cc3b36a4",
   "metadata": {},
   "outputs": [],
   "source": [
    "# Remover a designação espaços duplos e virgulas\n",
    "atp_suecia[\"Score\"] = atp_suecia[\"Score\"].str.replace(\",\", \"\")\n",
    "atp_suecia[\"Score\"] = atp_suecia[\"Score\"].str.replace(\"  \", \" \")"
   ]
  },
  {
   "cell_type": "code",
   "execution_count": 72,
   "id": "28d86a8a",
   "metadata": {},
   "outputs": [],
   "source": [
    "# Casos Particulares com pontuações em milhares\n",
    "atp_suecia.loc[atp_suecia['Score'].str.contains(\"12-1426 46\", na=False), 'Score'] = \"12-14 26 46\"\n",
    "atp_suecia.loc[atp_suecia['Score'].str.contains(\"10-1226 79\", na=False), 'Score'] = \"10-12 26 79\"\n",
    "atp_suecia.loc[atp_suecia['Score'].str.contains(\"11-1346 36\", na=False), 'Score'] = \"11-13 46 36\"\n",
    "atp_suecia.loc[atp_suecia['Score'].str.contains(\"62 11-1336 63 06\", na=False), 'Score'] = \"62 11-13 36 63 06\"\n",
    "atp_suecia.loc[atp_suecia['Score'].str.contains(\"14-1262 64\", na=False), 'Score'] = \"14-12 62 64\"\n",
    "atp_suecia.loc[atp_suecia['Score'].str.contains(\"46 46 10-863 46\", na=False), 'Score'] = \"46 46 10-8 63 46\"\n",
    "atp_suecia.loc[atp_suecia['Score'].str.contains(\"8-1016 62 64 86\", na=False), 'Score'] = \"8-10 16 62 64 86\"\n",
    "atp_suecia.loc[atp_suecia['Score'].str.contains(\"46 10-862\", na=False), 'Score'] = \"46 10-8 62\"\n",
    "atp_suecia.loc[atp_suecia['Score'].str.contains(\"11-1336 46\", na=False), 'Score'] = \"11-13 36 46\"\n",
    "atp_suecia.loc[atp_suecia['Score'].str.contains(\"26 13-1163 36 60\", na=False), 'Score'] = \"26 13-11 63 36 60\"\n",
    "atp_suecia.loc[atp_suecia['Score'].str.contains(\"10-861 26 46 68\", na=False), 'Score'] = \"10-8 61 26 46 68\"\n",
    "atp_suecia.loc[atp_suecia['Score'].str.contains(\"12-1062 97\", na=False), 'Score'] = \"12-10 62 97\"\n",
    "atp_suecia.loc[atp_suecia['Score'].str.contains(\"64 64 8-1036 64\", na=False), 'Score'] = \"64 64 8-10 36 64\""
   ]
  },
  {
   "cell_type": "code",
   "execution_count": 73,
   "id": "e37c6873",
   "metadata": {},
   "outputs": [
    {
     "name": "stdout",
     "output_type": "stream",
     "text": [
      "Nº de Valores distintos: 1308\n"
     ]
    },
    {
     "data": {
      "text/plain": [
       "array(['46 67', '64 62', '63 63', ..., '75 (RET)', '16 63 60', '62 16 63'],\n",
       "      dtype=object)"
      ]
     },
     "execution_count": 73,
     "metadata": {},
     "output_type": "execute_result"
    }
   ],
   "source": [
    "# Verificar os valores distintos da variável 'GameRound'\n",
    "print('Nº de Valores distintos:',atp_suecia['Score'].nunique())\n",
    "atp_suecia['Score'].unique()"
   ]
  },
  {
   "cell_type": "code",
   "execution_count": 74,
   "id": "acbc9f2a",
   "metadata": {},
   "outputs": [
    {
     "name": "stdout",
     "output_type": "stream",
     "text": [
      "Nº de '(W/O):' 66 ( 0.57 %)\n",
      "Nº de Valores Omissos 66\n"
     ]
    }
   ],
   "source": [
    "# Ocorrencias de (W/O)\n",
    "print(\"Nº de '(W/O):'\", atp_suecia['Score'].str.contains(\"(W/O)\").sum(), '(', round(atp_suecia['Score'].str.contains(\"(W/O)\").sum()/len(atp_suecia['Score']) * 100, 2) ,'%)')\n",
    "\n",
    "# Atribuir NaN a '(W/O)' e eliminar valores omissos\n",
    "atp_suecia.loc[atp_suecia['Score'].str.contains(\"(W/O)\", na=False), 'Score'] = np.nan\n",
    "print('Nº de Valores Omissos', atp_suecia['Score'].isnull().sum())\n",
    "\n",
    "atp_suecia.dropna(subset=['Score'], inplace = True)"
   ]
  },
  {
   "cell_type": "markdown",
   "id": "16174128",
   "metadata": {},
   "source": [
    "---"
   ]
  },
  {
   "cell_type": "code",
   "execution_count": 75,
   "id": "58fbf4d3",
   "metadata": {},
   "outputs": [
    {
     "name": "stdout",
     "output_type": "stream",
     "text": [
      "Nº de \"(RET)\": 275 ( 2.39 %)\n"
     ]
    }
   ],
   "source": [
    "# Contar o Nº de '(RET)'\n",
    "print('Nº de \"(RET)\":',atp_suecia['Score'].str.contains(\"(RET)\").sum(), '(', round(atp_suecia['Score'].str.contains(\"(RET)\").sum()/len(atp_suecia['Score']) * 100, 2) ,'%)' )"
   ]
  },
  {
   "cell_type": "markdown",
   "id": "bbd0d7c2",
   "metadata": {},
   "source": [
    "----"
   ]
  },
  {
   "cell_type": "markdown",
   "id": "2aa9c603",
   "metadata": {},
   "source": [
    "## Contar o `Nº de Sets`"
   ]
  },
  {
   "cell_type": "code",
   "execution_count": 76,
   "id": "63eddd19",
   "metadata": {},
   "outputs": [],
   "source": [
    "# Função para contar o nº de sets\n",
    "def count_sets(score):\n",
    "    if \" (RET)\" in score:           # Caso tenha ' (RET)'\n",
    "        score = score.split()[:-1] # Remove o último set abandonado\n",
    "    else:\n",
    "        score = score.split()\n",
    "    return len(score)"
   ]
  },
  {
   "cell_type": "code",
   "execution_count": 77,
   "id": "dbb90eb3",
   "metadata": {},
   "outputs": [
    {
     "data": {
      "text/html": [
       "<div>\n",
       "<style scoped>\n",
       "    .dataframe tbody tr th:only-of-type {\n",
       "        vertical-align: middle;\n",
       "    }\n",
       "\n",
       "    .dataframe tbody tr th {\n",
       "        vertical-align: top;\n",
       "    }\n",
       "\n",
       "    .dataframe thead th {\n",
       "        text-align: right;\n",
       "    }\n",
       "</style>\n",
       "<table border=\"1\" class=\"dataframe\">\n",
       "  <thead>\n",
       "    <tr style=\"text-align: right;\">\n",
       "      <th></th>\n",
       "      <th>PlayerName</th>\n",
       "      <th>Born</th>\n",
       "      <th>Height</th>\n",
       "      <th>Hand</th>\n",
       "      <th>LinkPlayer</th>\n",
       "      <th>Tournament</th>\n",
       "      <th>Ground</th>\n",
       "      <th>GameRound</th>\n",
       "      <th>GameRank</th>\n",
       "      <th>Oponent</th>\n",
       "      <th>WL</th>\n",
       "      <th>Score</th>\n",
       "      <th>Tournament_Start_Date</th>\n",
       "      <th>Tournament_End_Date</th>\n",
       "      <th>Prize</th>\n",
       "      <th>N_Sets</th>\n",
       "    </tr>\n",
       "  </thead>\n",
       "  <tbody>\n",
       "    <tr>\n",
       "      <th>11808</th>\n",
       "      <td>Baptiste Crepatte</td>\n",
       "      <td>Grenoble, France</td>\n",
       "      <td>185.0</td>\n",
       "      <td>Right-Handed, Unknown Backhand</td>\n",
       "      <td>https://www.atptour.com/en/players/baptiste-crepatte/cm79/player-activity?year=all&amp;matchType=Singles</td>\n",
       "      <td>M25</td>\n",
       "      <td>Hard</td>\n",
       "      <td>Round of 32</td>\n",
       "      <td>1221</td>\n",
       "      <td>Daniil Glinka</td>\n",
       "      <td>L</td>\n",
       "      <td>64 26 46</td>\n",
       "      <td>2019-09-30</td>\n",
       "      <td>2019-10-06</td>\n",
       "      <td>28618</td>\n",
       "      <td>3</td>\n",
       "    </tr>\n",
       "    <tr>\n",
       "      <th>2934</th>\n",
       "      <td>Franko Skugor</td>\n",
       "      <td>Sibenik, Croatia</td>\n",
       "      <td>196.0</td>\n",
       "      <td>Right-Handed, Two-Handed Backhand</td>\n",
       "      <td>https://www.atptour.com/en/players/franko-skugor/sf76/player-activity?year=all&amp;matchType=Singles</td>\n",
       "      <td>Bastad</td>\n",
       "      <td>Clay</td>\n",
       "      <td>3rd Round Qualifying</td>\n",
       "      <td>717</td>\n",
       "      <td>Carl Bergman</td>\n",
       "      <td>W</td>\n",
       "      <td>61 62</td>\n",
       "      <td>2010-07-12</td>\n",
       "      <td>2010-07-18</td>\n",
       "      <td>672930</td>\n",
       "      <td>2</td>\n",
       "    </tr>\n",
       "  </tbody>\n",
       "</table>\n",
       "</div>"
      ],
      "text/plain": [
       "              PlayerName              Born  Height  \\\n",
       "11808  Baptiste Crepatte  Grenoble, France  185.0    \n",
       "2934   Franko Skugor      Sibenik, Croatia  196.0    \n",
       "\n",
       "                                    Hand  \\\n",
       "11808  Right-Handed, Unknown Backhand      \n",
       "2934   Right-Handed, Two-Handed Backhand   \n",
       "\n",
       "                                                                                                 LinkPlayer  \\\n",
       "11808  https://www.atptour.com/en/players/baptiste-crepatte/cm79/player-activity?year=all&matchType=Singles   \n",
       "2934   https://www.atptour.com/en/players/franko-skugor/sf76/player-activity?year=all&matchType=Singles       \n",
       "\n",
       "      Tournament Ground             GameRound GameRank        Oponent WL  \\\n",
       "11808  M25        Hard   Round of 32           1221     Daniil Glinka  L   \n",
       "2934   Bastad     Clay   3rd Round Qualifying  717      Carl Bergman   W   \n",
       "\n",
       "          Score Tournament_Start_Date Tournament_End_Date   Prize  N_Sets  \n",
       "11808  64 26 46 2019-09-30            2019-10-06           28618   3       \n",
       "2934   61 62    2010-07-12            2010-07-18           672930  2       "
      ]
     },
     "execution_count": 77,
     "metadata": {},
     "output_type": "execute_result"
    }
   ],
   "source": [
    "# Criar a Variável 'N_Sets' aplicando a função 'count_sets'\n",
    "atp_suecia['N_Sets'] = atp_suecia.apply(lambda row: count_sets(row['Score']), axis=1)\n",
    "atp_suecia.sample(2) # Verificação"
   ]
  },
  {
   "cell_type": "code",
   "execution_count": 78,
   "id": "3bf41532",
   "metadata": {},
   "outputs": [
    {
     "data": {
      "text/html": [
       "<div>\n",
       "<style scoped>\n",
       "    .dataframe tbody tr th:only-of-type {\n",
       "        vertical-align: middle;\n",
       "    }\n",
       "\n",
       "    .dataframe tbody tr th {\n",
       "        vertical-align: top;\n",
       "    }\n",
       "\n",
       "    .dataframe thead th {\n",
       "        text-align: right;\n",
       "    }\n",
       "</style>\n",
       "<table border=\"1\" class=\"dataframe\">\n",
       "  <thead>\n",
       "    <tr style=\"text-align: right;\">\n",
       "      <th></th>\n",
       "      <th>N_Sets</th>\n",
       "    </tr>\n",
       "  </thead>\n",
       "  <tbody>\n",
       "    <tr>\n",
       "      <th>2</th>\n",
       "      <td>7774</td>\n",
       "    </tr>\n",
       "    <tr>\n",
       "      <th>3</th>\n",
       "      <td>3623</td>\n",
       "    </tr>\n",
       "    <tr>\n",
       "      <th>1</th>\n",
       "      <td>91</td>\n",
       "    </tr>\n",
       "    <tr>\n",
       "      <th>4</th>\n",
       "      <td>15</td>\n",
       "    </tr>\n",
       "    <tr>\n",
       "      <th>5</th>\n",
       "      <td>5</td>\n",
       "    </tr>\n",
       "  </tbody>\n",
       "</table>\n",
       "</div>"
      ],
      "text/plain": [
       "   N_Sets\n",
       "2  7774  \n",
       "3  3623  \n",
       "1  91    \n",
       "4  15    \n",
       "5  5     "
      ]
     },
     "execution_count": 78,
     "metadata": {},
     "output_type": "execute_result"
    }
   ],
   "source": [
    "# Contagem dos casos distintos do Nº de Sets\n",
    "pd.DataFrame(atp_suecia['N_Sets'].value_counts())"
   ]
  },
  {
   "cell_type": "markdown",
   "id": "38f0131e",
   "metadata": {},
   "source": [
    "---"
   ]
  },
  {
   "cell_type": "markdown",
   "id": "ff2dc09d",
   "metadata": {},
   "source": [
    "# 💾 Guardar dataset com jogos realizados na Suécia"
   ]
  },
  {
   "cell_type": "code",
   "execution_count": 79,
   "id": "b7d7bcbf",
   "metadata": {},
   "outputs": [
    {
     "name": "stdout",
     "output_type": "stream",
     "text": [
      "<class 'pandas.core.frame.DataFrame'>\n",
      "Int64Index: 11508 entries, 0 to 12275\n",
      "Data columns (total 16 columns):\n",
      " #   Column                 Non-Null Count  Dtype         \n",
      "---  ------                 --------------  -----         \n",
      " 0   PlayerName             11508 non-null  object        \n",
      " 1   Born                   9195 non-null   object        \n",
      " 2   Height                 9283 non-null   float64       \n",
      " 3   Hand                   10144 non-null  object        \n",
      " 4   LinkPlayer             11508 non-null  object        \n",
      " 5   Tournament             11508 non-null  object        \n",
      " 6   Ground                 11508 non-null  object        \n",
      " 7   GameRound              11508 non-null  object        \n",
      " 8   GameRank               11508 non-null  object        \n",
      " 9   Oponent                11508 non-null  object        \n",
      " 10  WL                     11508 non-null  object        \n",
      " 11  Score                  11508 non-null  object        \n",
      " 12  Tournament_Start_Date  11508 non-null  datetime64[ns]\n",
      " 13  Tournament_End_Date    11508 non-null  datetime64[ns]\n",
      " 14  Prize                  11508 non-null  Int64         \n",
      " 15  N_Sets                 11508 non-null  int64         \n",
      "dtypes: Int64(1), datetime64[ns](2), float64(1), int64(1), object(11)\n",
      "memory usage: 1.5+ MB\n"
     ]
    }
   ],
   "source": [
    "# Informações do dataset 'atp_suecia'\n",
    "atp_suecia.info()"
   ]
  },
  {
   "cell_type": "code",
   "execution_count": 80,
   "id": "963168db",
   "metadata": {},
   "outputs": [
    {
     "name": "stdout",
     "output_type": "stream",
     "text": [
      "<class 'pandas.core.frame.DataFrame'>\n",
      "Int64Index: 11508 entries, 0 to 12275\n",
      "Data columns (total 15 columns):\n",
      " #   Column                 Non-Null Count  Dtype         \n",
      "---  ------                 --------------  -----         \n",
      " 0   PlayerName             11508 non-null  object        \n",
      " 1   LinkPlayer             11508 non-null  object        \n",
      " 2   Born                   9195 non-null   object        \n",
      " 3   Height                 9283 non-null   float64       \n",
      " 4   Hand                   10144 non-null  object        \n",
      " 5   Opponent               11508 non-null  object        \n",
      " 6   GameRank               11508 non-null  object        \n",
      " 7   Tournament             11508 non-null  object        \n",
      " 8   Tournament_Start_Date  11508 non-null  datetime64[ns]\n",
      " 9   Tournament_End_Date    11508 non-null  datetime64[ns]\n",
      " 10  Prize                  11508 non-null  Int64         \n",
      " 11  Ground                 11508 non-null  object        \n",
      " 12  GameRound              11508 non-null  object        \n",
      " 13  WL                     11508 non-null  object        \n",
      " 14  N_Sets                 11508 non-null  int64         \n",
      "dtypes: Int64(1), datetime64[ns](2), float64(1), int64(1), object(10)\n",
      "memory usage: 1.4+ MB\n"
     ]
    }
   ],
   "source": [
    "# Reorganizar o dataset e eliminar a coluna 'Score'\n",
    "# atp_suecia = atp_suecia.reindex(columns=['PlayerName','LinkPlayer','Born','Height','Hand','Oponent','Tournament','Tournament_Start_Date','Tournament_End_Date','Prize','Ground','GameRound','WL','N_Sets'])\n",
    "atp_suecia = atp_suecia.reindex(columns=['PlayerName','LinkPlayer','Born','Height','Hand','Oponent','GameRank','Tournament','Tournament_Start_Date','Tournament_End_Date','Prize','Ground','GameRound','WL','N_Sets'])\n",
    "atp_suecia = atp_suecia.rename(columns={\"Oponent\": \"Opponent\"})\n",
    "atp_suecia.info()"
   ]
  },
  {
   "cell_type": "code",
   "execution_count": 81,
   "id": "b73db344",
   "metadata": {},
   "outputs": [],
   "source": [
    "# Guardar o dataset com os jogadores limpos\n",
    "atp_suecia.to_csv('atp_suecia.csv', index= False)"
   ]
  },
  {
   "cell_type": "markdown",
   "id": "ccea7470",
   "metadata": {},
   "source": [
    "---"
   ]
  }
 ],
 "metadata": {
  "kernelspec": {
   "display_name": "Python 3 (ipykernel)",
   "language": "python",
   "name": "python3"
  },
  "language_info": {
   "codemirror_mode": {
    "name": "ipython",
    "version": 3
   },
   "file_extension": ".py",
   "mimetype": "text/x-python",
   "name": "python",
   "nbconvert_exporter": "python",
   "pygments_lexer": "ipython3",
   "version": "3.9.13"
  },
  "toc": {
   "base_numbering": 1,
   "nav_menu": {},
   "number_sections": false,
   "sideBar": true,
   "skip_h1_title": false,
   "title_cell": "Table of Contents",
   "title_sidebar": "Contents",
   "toc_cell": false,
   "toc_position": {},
   "toc_section_display": true,
   "toc_window_display": false
  }
 },
 "nbformat": 4,
 "nbformat_minor": 5
}
